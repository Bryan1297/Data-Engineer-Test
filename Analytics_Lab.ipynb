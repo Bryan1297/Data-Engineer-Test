{
  "nbformat": 4,
  "nbformat_minor": 0,
  "metadata": {
    "colab": {
      "name": "Analytics_Lab.ipynb",
      "provenance": [],
      "collapsed_sections": [],
      "toc_visible": true
    },
    "kernelspec": {
      "name": "python3",
      "display_name": "Python 3"
    }
  },
  "cells": [
    {
      "cell_type": "markdown",
      "metadata": {
        "id": "81_Jyk2pvdGR",
        "colab_type": "text"
      },
      "source": [
        "#Analytics Lab - Data Engineer Test\n",
        "# Bryan Camilo Hurtado Suarez"
      ]
    },
    {
      "cell_type": "markdown",
      "metadata": {
        "id": "K5qb0ksbHh7a",
        "colab_type": "text"
      },
      "source": [
        "Conexión a google drive donde se ha cargado los datos - solo tener en cuenta si desea realizar conexión a drive"
      ]
    },
    {
      "cell_type": "code",
      "metadata": {
        "id": "MPaMTFD79npW",
        "colab_type": "code",
        "colab": {
          "base_uri": "https://localhost:8080/",
          "height": 34
        },
        "outputId": "87594abb-be51-4d58-ad23-1896ea2674d3"
      },
      "source": [
        "from google.colab import drive\n",
        "drive.mount('/content/drive') # montar la ruta"
      ],
      "execution_count": 2,
      "outputs": [
        {
          "output_type": "stream",
          "text": [
            "Mounted at /content/drive\n"
          ],
          "name": "stdout"
        }
      ]
    },
    {
      "cell_type": "markdown",
      "metadata": {
        "id": "6Fbt6X6aHgeW",
        "colab_type": "text"
      },
      "source": [
        "##Requerimientos"
      ]
    },
    {
      "cell_type": "markdown",
      "metadata": {
        "id": "T_58cDgTIb0v",
        "colab_type": "text"
      },
      "source": [
        "Librerias necesarias para el correcto funcionamiento:"
      ]
    },
    {
      "cell_type": "code",
      "metadata": {
        "id": "CY8ur7GB9jDB",
        "colab_type": "code",
        "colab": {}
      },
      "source": [
        "from google.cloud import bigquery         # Conexión a GCP\n",
        "from google.oauth2 import service_account # Adecuar credenciales de conexión a GCP\n",
        "import pandas                             # Pandas: para manipulación y análisis de datos\n",
        "import matplotlib.pyplot as plt           # matplotlib: Realizar Gráficos\n",
        "import numpy as np                        # manejo de arrays\n",
        "\n",
        "\n",
        "#machine learning\n",
        "\n",
        "from sklearn.pipeline  import Pipeline\n",
        "from sklearn.preprocessing import  StandardScaler,OneHotEncoder\n",
        "from sklearn.model_selection import train_test_split\n",
        "from sklearn.linear_model import LogisticRegression\n",
        "from sklearn.compose import ColumnTransformer\n",
        "from sklearn.impute import SimpleImputer"
      ],
      "execution_count": 3,
      "outputs": []
    },
    {
      "cell_type": "markdown",
      "metadata": {
        "id": "dLhDk9nkJway",
        "colab_type": "text"
      },
      "source": [
        "## Procedimiento"
      ]
    },
    {
      "cell_type": "markdown",
      "metadata": {
        "id": "wP675RtAJ0I9",
        "colab_type": "text"
      },
      "source": [
        "La base de datos con la que se cuenta contiene información sobre los Homicidios presentados en colombia durante el periodo 2018-01-01 a 2018-12-31, esta es suminustrada por la dirección general de la policía nacional(Dijin).\n",
        "\n",
        "\n",
        "Ahora se definira el proceso que se seguira para la correcta exploración de los datos:\n",
        "\n",
        "\n",
        "\n",
        "1.   Conexión a GCP : Enlacazar con Bigquery usandos las credenciales adecuadas. Luego, cargar la bases de datos y verificar la correcta lectura.\n",
        "2.   Exploración de datos mediante SQL: Analizar la información usando el lenguajes SQL.\n",
        "3.   Exploración de datos mediante Pandas: Analizar la información usando la libreria Pandas.\n",
        "4.   Modelo Machine Learning: Selección de un modelo de Machine Learning. Luego, entrenamiento y validación de este.\n",
        "5.   Arquitectura del modelo: Explicación de la arquitecuta para desarrollar el modelo.\n",
        " \n",
        "\n"
      ]
    },
    {
      "cell_type": "markdown",
      "metadata": {
        "id": "bmoMR6_-KaEm",
        "colab_type": "text"
      },
      "source": [
        "## Conexión a GCP Bigquery"
      ]
    },
    {
      "cell_type": "markdown",
      "metadata": {
        "id": "sqVUVHwyVkgJ",
        "colab_type": "text"
      },
      "source": [
        "En primer lugar, se habilito Bigquery, se realizo la configuración para la correcta comunicación con Bigquery y verficación de que la cuenta usada tenga los accesos correctos, esto mediante \"Cloud Shell\" de GCP. El procemiento para esto fue el siguiente:\n",
        "\n",
        "\n",
        "\n",
        "1.   Verificar que el servicio de Bigquery exista, de otro fomra crearlo.\n",
        "2.   Crear una \"service account\" y obtener la credenciales que fueron guardadas como \"key.json\".\n",
        "3.   Verificar que la cuenta este habilitada como para ser ususario de Bigquery, de otra forma configurarla.\n",
        "\n"
      ]
    },
    {
      "cell_type": "markdown",
      "metadata": {
        "id": "pyKuMRH4WX2Q",
        "colab_type": "text"
      },
      "source": [
        "Luego, teniendo configurado el servicio de Bigquery, la credenciales son instanciadas en python mediante la libreria service_account:"
      ]
    },
    {
      "cell_type": "code",
      "metadata": {
        "id": "iBiqJ_Dv3LuJ",
        "colab_type": "code",
        "colab": {}
      },
      "source": [
        "credentials = service_account.Credentials.from_service_account_file('/content/key.json') "
      ],
      "execution_count": null,
      "outputs": []
    },
    {
      "cell_type": "markdown",
      "metadata": {
        "id": "_mf3gCS7WoRl",
        "colab_type": "text"
      },
      "source": [
        "Entonces, se iniaciliza el cliente de Bigquery usando las credenciales ya instanciadas y el ID del proyecto(este es único) ya instanciado:"
      ]
    },
    {
      "cell_type": "code",
      "metadata": {
        "id": "D70tzt8etVR1",
        "colab_type": "code",
        "colab": {}
      },
      "source": [
        "client = bigquery.Client(project='sonorous-shore-289314',credentials=credentials)"
      ],
      "execution_count": null,
      "outputs": []
    },
    {
      "cell_type": "markdown",
      "metadata": {
        "id": "zUkMClYFXgwN",
        "colab_type": "text"
      },
      "source": [
        "Ahora, se cuenta con el cliente pero antes de cargarlos a GCP debemos cargarlos a nuestro ambiente de trabajo para lo cual se usa pandas:"
      ]
    },
    {
      "cell_type": "code",
      "metadata": {
        "id": "oebwV9p44f36",
        "colab_type": "code",
        "colab": {}
      },
      "source": [
        "homicidios_2018 = pandas.read_excel('/content/drive/My Drive/homicidios-2018.xls') # Carga base de datos\n",
        "\n",
        "homicidios_2018 = homicidios_2018.drop([12646],axis=0)  # se elimina la última fila que contiene el total"
      ],
      "execution_count": 4,
      "outputs": []
    },
    {
      "cell_type": "markdown",
      "metadata": {
        "id": "DIW2tIJjYVfc",
        "colab_type": "text"
      },
      "source": [
        "Se conviere a formato CSV para facilitar su carga a Bigquery:"
      ]
    },
    {
      "cell_type": "code",
      "metadata": {
        "id": "7J1q4N8k71Wa",
        "colab_type": "code",
        "colab": {}
      },
      "source": [
        "homicidios_2018.to_csv(\"homicidios_2018.csv\", index=False)"
      ],
      "execution_count": null,
      "outputs": []
    },
    {
      "cell_type": "markdown",
      "metadata": {
        "id": "HpYP6tWBYkMe",
        "colab_type": "text"
      },
      "source": [
        "Se realiza el proceso de carga de la siguiente forma:\n",
        "\n",
        "\n",
        "\n",
        "1.   Creación del dataset\n",
        "2.   Creación de la tabla dentro del dataset\n",
        "3.   Configurar el trabajo de carga\n",
        "4.   Cargar datos"
      ]
    },
    {
      "cell_type": "code",
      "metadata": {
        "id": "Bdq0iDtf7OWq",
        "colab_type": "code",
        "colab": {
          "base_uri": "https://localhost:8080/",
          "height": 34
        },
        "outputId": "9590112c-3c0a-4e35-c89d-8c5c11a785a9"
      },
      "source": [
        "dataset = client.create_dataset('homicidios_dataset') # crear dataset\n",
        "table = dataset.table('homicidios_2018_table')  # crear tabla\n",
        "\n",
        "table_ref = client.dataset(\"homicidios_dataset\").table(\"homicidios_2018_table\") # ruta donde se guardaran los datos\n",
        "\n",
        "job_config = bigquery.LoadJobConfig()  # Inicalizar el proceso de carga\n",
        "job_config.source_format = bigquery.SourceFormat.CSV  # formato de carga CSV\n",
        "job_config.skip_leading_rows = 1 # No tener en cuenta el Header\n",
        "job_config.autodetect = True # Detectar automaticament el formato de los datos\n",
        "\n",
        "with open(\"homicidios_2018.csv\", \"rb\") as source_file: # Abrir archivo - modo lectura y tomado en modo binario\n",
        "    job = client.load_table_from_file(source_file, table_ref, job_config=job_config)  # cargar datos\n",
        "\n",
        "job.result() "
      ],
      "execution_count": null,
      "outputs": [
        {
          "output_type": "execute_result",
          "data": {
            "text/plain": [
              "<google.cloud.bigquery.job.LoadJob at 0x7fce547c0208>"
            ]
          },
          "metadata": {
            "tags": []
          },
          "execution_count": 54
        }
      ]
    },
    {
      "cell_type": "markdown",
      "metadata": {
        "id": "vf4xcY4fbTGX",
        "colab_type": "text"
      },
      "source": [
        "En una obsevación preliminar de la infomación se evidencio que el formato original de las columnas \"Edad\" y \"Código Dane\" es de texto, esto se soluciona usando el modo automatico de carga que cambia el formato a númerico. En el casos de Pandas debera realizarse manualmente.\n",
        "\n",
        "Se evidencio que la columna \"Profesión\" tienen muy pocas entradas y no sera posible tener en cuenta esta variable, estos datos se recojen en campo y no se puede llenar de una manera diferente. De igual forma se evidencia que la columna \"cantidad\" tiene un error de lógica ya que se presentan en algunos casos 2 o más homicidios pero en un registro(fila) solo se tiene información de una persona, esto debe arreglarse cuando se reunen los datos. "
      ]
    },
    {
      "cell_type": "markdown",
      "metadata": {
        "id": "E6bM4hVdKltL",
        "colab_type": "text"
      },
      "source": [
        "## Exploración de datos mediante SQL"
      ]
    },
    {
      "cell_type": "markdown",
      "metadata": {
        "id": "3T2ttpOcgIqK",
        "colab_type": "text"
      },
      "source": [
        "Para empezar se realiza una consulta sencilla con el fin de evidenciar que las peticiones a Bigquery funcionen correctamente y que el tamaño de los datos cargados sea el adecuado:"
      ]
    },
    {
      "cell_type": "code",
      "metadata": {
        "id": "JUId9K_S-Enu",
        "colab_type": "code",
        "colab": {
          "base_uri": "https://localhost:8080/",
          "height": 51
        },
        "outputId": "1908d501-37d0-4aaf-e940-af55029ff9eb"
      },
      "source": [
        "query = \"\"\"\n",
        "    SELECT Count(*) as total\n",
        "    FROM `homicidios_dataset.homicidios_2018_table`\n",
        "    \"\"\"\n",
        "results = client.query(query)\n",
        "print('Cantidad de datos')\n",
        "for data in results:\n",
        "    total= data['total']\n",
        "    print(f'{total:<20} ')"
      ],
      "execution_count": null,
      "outputs": [
        {
          "output_type": "stream",
          "text": [
            "Cantidad de datos\n",
            "12646                \n"
          ],
          "name": "stdout"
        }
      ]
    },
    {
      "cell_type": "markdown",
      "metadata": {
        "id": "yfZZiwTE5sSb",
        "colab_type": "text"
      },
      "source": [
        "Se observa que se tienen 12646 regitros.\n",
        "\n",
        "Ahora se hace un recuento del total de homicidios presente en la base de datos:"
      ]
    },
    {
      "cell_type": "code",
      "metadata": {
        "id": "g7e-w2HYOWt_",
        "colab_type": "code",
        "colab": {
          "base_uri": "https://localhost:8080/",
          "height": 51
        },
        "outputId": "5a91f30a-6b8b-4bee-a1ec-c862206af46f"
      },
      "source": [
        "query = \"\"\"\n",
        "    SELECT Sum(Cantidad) as total\n",
        "    FROM `homicidios_dataset.homicidios_2018_table`\n",
        "    \"\"\"\n",
        "results = client.query(query)\n",
        "print('Cantidad de homicidios')\n",
        "for data in results:\n",
        "    total= data['total']\n",
        "    print(f'{total:<20} ')"
      ],
      "execution_count": null,
      "outputs": [
        {
          "output_type": "stream",
          "text": [
            "Cantidad de homicidios\n",
            "12667                \n"
          ],
          "name": "stdout"
        }
      ]
    },
    {
      "cell_type": "markdown",
      "metadata": {
        "id": "ImSH6gnF57Oh",
        "colab_type": "text"
      },
      "source": [
        "Se presentaron 12667 homicidios en colombia durante el año 2018.\n",
        "\n",
        "Se selecciona cinco datos simplemente para observar que se cargo correctamente a Bigquery:"
      ]
    },
    {
      "cell_type": "code",
      "metadata": {
        "id": "f5_kEUf2H5Ly",
        "colab_type": "code",
        "colab": {
          "base_uri": "https://localhost:8080/",
          "height": 122
        },
        "outputId": "6f47e1dd-af27-4c34-f778-6bec242b1e13"
      },
      "source": [
        "query = \"\"\"\n",
        "    SELECT * \n",
        "    FROM `homicidios_dataset.homicidios_2018_table`\n",
        "    LIMIT 5\n",
        "    \"\"\"\n",
        "results = client.query(query)\n",
        "\n",
        "for data in results:\n",
        "    print(data)"
      ],
      "execution_count": null,
      "outputs": [
        {
          "output_type": "stream",
          "text": [
            "Row((datetime.date(2018, 4, 11), 'ANTIOQUIA', 'LA CEJA', 'Miércoles', datetime.time(7, 30), 'LA MILAGROSA', 'RURAL', 'FINCAS Y SIMILARES', 'ARMA DE FUEGO', 'A PIE', 'A PIE', '15', 'MASCULINO', 'SOLTERO', 'COLOMBIA', 'INDEPENDIENTE', '-', 'SECUNDARIA', 5376000.0, 1), {'Fecha': 0, 'Departamento': 1, 'Municipio': 2, 'D__a': 3, 'Hora': 4, 'Barrio': 5, 'Zona': 6, 'Clase_de_sitio': 7, 'Arma_empleada': 8, 'M__vil_Agresor': 9, 'M__vil_Victima': 10, 'Edad': 11, 'Sexo': 12, 'Estado_civil': 13, 'Pa__s_de_nacimiento': 14, 'Clase_de_empleado': 15, 'Profesi__n': 16, 'Escolaridad': 17, 'C__digo_DANE': 18, 'Cantidad': 19})\n",
            "Row((datetime.date(2018, 1, 6), 'ANTIOQUIA', 'CÁCERES', 'Sábado', datetime.time(0, 0), 'EL TIGRE', 'RURAL', 'BARES, CANTINAS Y SIMILARES', 'ARMA DE FUEGO', 'A PIE', 'A PIE', '21', 'MASCULINO', 'SOLTERO', 'COLOMBIA', 'INDEPENDIENTE', '-', 'PRIMARIA', 5120000.0, 1), {'Fecha': 0, 'Departamento': 1, 'Municipio': 2, 'D__a': 3, 'Hora': 4, 'Barrio': 5, 'Zona': 6, 'Clase_de_sitio': 7, 'Arma_empleada': 8, 'M__vil_Agresor': 9, 'M__vil_Victima': 10, 'Edad': 11, 'Sexo': 12, 'Estado_civil': 13, 'Pa__s_de_nacimiento': 14, 'Clase_de_empleado': 15, 'Profesi__n': 16, 'Escolaridad': 17, 'C__digo_DANE': 18, 'Cantidad': 19})\n",
            "Row((datetime.date(2018, 1, 6), 'ANTIOQUIA', 'CÁCERES', 'Sábado', datetime.time(0, 0), 'EL TIGRE', 'RURAL', 'BARES, CANTINAS Y SIMILARES', 'ARMA DE FUEGO', 'A PIE', 'A PIE', '35', 'MASCULINO', 'SOLTERO', 'COLOMBIA', 'INDEPENDIENTE', '-', 'PRIMARIA', 5120000.0, 1), {'Fecha': 0, 'Departamento': 1, 'Municipio': 2, 'D__a': 3, 'Hora': 4, 'Barrio': 5, 'Zona': 6, 'Clase_de_sitio': 7, 'Arma_empleada': 8, 'M__vil_Agresor': 9, 'M__vil_Victima': 10, 'Edad': 11, 'Sexo': 12, 'Estado_civil': 13, 'Pa__s_de_nacimiento': 14, 'Clase_de_empleado': 15, 'Profesi__n': 16, 'Escolaridad': 17, 'C__digo_DANE': 18, 'Cantidad': 19})\n",
            "Row((datetime.date(2018, 1, 13), 'ANTIOQUIA', 'CÁCERES', 'Sábado', datetime.time(13, 0), 'PUERTO SANTO', 'RURAL', 'FINCAS Y SIMILARES', 'ARMA DE FUEGO', 'A PIE', 'A PIE', '34', 'MASCULINO', 'UNION LIBRE', 'COLOMBIA', 'INDEPENDIENTE', '-', 'PRIMARIA', 5120000.0, 1), {'Fecha': 0, 'Departamento': 1, 'Municipio': 2, 'D__a': 3, 'Hora': 4, 'Barrio': 5, 'Zona': 6, 'Clase_de_sitio': 7, 'Arma_empleada': 8, 'M__vil_Agresor': 9, 'M__vil_Victima': 10, 'Edad': 11, 'Sexo': 12, 'Estado_civil': 13, 'Pa__s_de_nacimiento': 14, 'Clase_de_empleado': 15, 'Profesi__n': 16, 'Escolaridad': 17, 'C__digo_DANE': 18, 'Cantidad': 19})\n",
            "Row((datetime.date(2018, 1, 14), 'ANTIOQUIA', 'CÁCERES', 'Domingo', datetime.time(17, 0), 'PUERTO BELGICA', 'RURAL', 'FINCAS Y SIMILARES', 'ARMA DE FUEGO', 'A PIE', 'A PIE', '26', 'MASCULINO', 'SOLTERO', 'COLOMBIA', 'EMPLEADO PARTICULAR', 'TECNOLOGO  ELECTRICA', 'TECNICO', 5120000.0, 1), {'Fecha': 0, 'Departamento': 1, 'Municipio': 2, 'D__a': 3, 'Hora': 4, 'Barrio': 5, 'Zona': 6, 'Clase_de_sitio': 7, 'Arma_empleada': 8, 'M__vil_Agresor': 9, 'M__vil_Victima': 10, 'Edad': 11, 'Sexo': 12, 'Estado_civil': 13, 'Pa__s_de_nacimiento': 14, 'Clase_de_empleado': 15, 'Profesi__n': 16, 'Escolaridad': 17, 'C__digo_DANE': 18, 'Cantidad': 19})\n"
          ],
          "name": "stdout"
        }
      ]
    },
    {
      "cell_type": "markdown",
      "metadata": {
        "id": "BjV4s81e6R0I",
        "colab_type": "text"
      },
      "source": [
        "Ahora, se empieza e explorar la información más detalladamente. Se hace una consulta para saber en que zona ocurrio la mayor cantidad de homicidios:"
      ]
    },
    {
      "cell_type": "code",
      "metadata": {
        "id": "rzmIs_argJ58",
        "colab_type": "code",
        "colab": {
          "base_uri": "https://localhost:8080/",
          "height": 68
        },
        "outputId": "ea7e3ba7-33e2-44fa-817a-7e94378cbec6"
      },
      "source": [
        "query = \"\"\"\n",
        "    SELECT Zona as zona, Sum(Cantidad) as Cantidad\n",
        "    FROM `homicidios_dataset.homicidios_2018_table`\n",
        "    GROUP BY zona\n",
        "    \"\"\"\n",
        "results = client.query(query)\n",
        "print('Zona'.ljust(11),'Homidicios')\n",
        "for data in results:\n",
        "    zona= data['zona']\n",
        "    cantidad= data['Cantidad']\n",
        "    print(f'{zona:<10} | {cantidad} ')"
      ],
      "execution_count": null,
      "outputs": [
        {
          "output_type": "stream",
          "text": [
            "Zona        Homidicios\n",
            "RURAL      | 4226 \n",
            "URBANA     | 8441 \n"
          ],
          "name": "stdout"
        }
      ]
    },
    {
      "cell_type": "markdown",
      "metadata": {
        "id": "b8Cn_Zf87HxJ",
        "colab_type": "text"
      },
      "source": [
        "Se observa en que la zona Urbana es la zona más afectada por homicidios durante el año 2018.\n",
        "\n",
        "Luego, se quiere ver cuales fueron los 10 departamentos con mayor cantidad de homicidios:"
      ]
    },
    {
      "cell_type": "code",
      "metadata": {
        "id": "Kx_AIe0ay9YU",
        "colab_type": "code",
        "colab": {
          "base_uri": "https://localhost:8080/",
          "height": 204
        },
        "outputId": "ff09739d-5bee-47f0-b2b0-b1e08cb36b87"
      },
      "source": [
        "query = \"\"\"\n",
        "    SELECT Departamento as departamento, Sum(Cantidad) as Cantidad\n",
        "    FROM `homicidios_dataset.homicidios_2018_table`\n",
        "    GROUP BY departamento\n",
        "    ORDER BY cantidad\n",
        "    DESC LIMIT 10\n",
        "    \"\"\"\n",
        "results = client.query(query)\n",
        "print('Departamento'.ljust(21),'Homidicios')\n",
        "for data in results:\n",
        "    departamento= data['departamento']\n",
        "    cantidad= data['Cantidad']\n",
        "    print(f'{departamento:<20} | {cantidad} ')"
      ],
      "execution_count": null,
      "outputs": [
        {
          "output_type": "stream",
          "text": [
            "Departamento          Homidicios\n",
            "ANTIOQUIA            | 2449 \n",
            "VALLE                | 2242 \n",
            "CUNDINAMARCA         | 1459 \n",
            "CAUCA                | 688 \n",
            "NARIÑO               | 643 \n",
            "ATLÁNTICO            | 548 \n",
            "NORTE DE SANTANDER   | 522 \n",
            "BOLÍVAR              | 386 \n",
            "CÓRDOBA              | 365 \n",
            "META                 | 274 \n"
          ],
          "name": "stdout"
        }
      ]
    },
    {
      "cell_type": "markdown",
      "metadata": {
        "id": "J3UiRnHZ7auH",
        "colab_type": "text"
      },
      "source": [
        "Se obtiene que Antioquia, Valle y Cundinamarca son los más afectados presentando más de 1000 homicidios cada uno.\n",
        "\n",
        "Ahora, se quiere conocer el TOP 10 de municipios respecto a los Homicidios:"
      ]
    },
    {
      "cell_type": "code",
      "metadata": {
        "id": "GRCj-6kFy9nC",
        "colab_type": "code",
        "colab": {
          "base_uri": "https://localhost:8080/",
          "height": 204
        },
        "outputId": "f2335beb-4387-475a-e979-d7052875a437"
      },
      "source": [
        "query = \"\"\"\n",
        "    SELECT Municipio as municipio, Sum(Cantidad) as Cantidad\n",
        "    FROM `homicidios_dataset.homicidios_2018_table`\n",
        "    GROUP BY municipio\n",
        "    ORDER BY cantidad\n",
        "    DESC LIMIT 10\n",
        "    \"\"\"\n",
        "results = client.query(query)\n",
        "print('Municipio'.ljust(21),'Homidicios')\n",
        "for data in results:\n",
        "    municipio= data['municipio']\n",
        "    cantidad= data['Cantidad']\n",
        "    print(f'{municipio:<20} | {cantidad} ')"
      ],
      "execution_count": null,
      "outputs": [
        {
          "output_type": "stream",
          "text": [
            "Municipio             Homidicios\n",
            "CALI (CT)            | 1159 \n",
            "BOGOTÁ D.C. (CT)     | 1064 \n",
            "MEDELLÍN (CT)        | 626 \n",
            "BARRANQUILLA (CT)    | 315 \n",
            "SAN ANDRES DE TUMACO | 249 \n",
            "CARTAGENA (CT)       | 217 \n",
            "CÚCUTA (CT)          | 192 \n",
            "SOACHA               | 158 \n",
            "PALMIRA              | 156 \n",
            "CAUCASIA             | 153 \n"
          ],
          "name": "stdout"
        }
      ]
    },
    {
      "cell_type": "markdown",
      "metadata": {
        "id": "NreR3WvK7ysV",
        "colab_type": "text"
      },
      "source": [
        "Como se esperaba las grandes ciudades colombianas son las más afectadas, en especial Cali, Bogotá y Medellín.\n",
        "\n",
        "Se consulta el TOP 10 de sitios donde ocurren homicidios:"
      ]
    },
    {
      "cell_type": "code",
      "metadata": {
        "id": "oxS1lv13y91a",
        "colab_type": "code",
        "colab": {
          "base_uri": "https://localhost:8080/",
          "height": 204
        },
        "outputId": "26dd8344-9fa6-4f88-fa9e-a871dc5f84e7"
      },
      "source": [
        "query = \"\"\"\n",
        "    SELECT Clase_de_sitio as clase_sitio, Sum(Cantidad) as Cantidad\n",
        "    FROM `homicidios_dataset.homicidios_2018_table`\n",
        "    GROUP BY clase_sitio\n",
        "    ORDER BY cantidad\n",
        "    DESC LIMIT 10\n",
        "    \"\"\"\n",
        "results = client.query(query)\n",
        "print('Clase de sitio'.ljust(41),'Homidicios')\n",
        "for data in results:\n",
        "    clase_sitio= data['clase_sitio']\n",
        "    cantidad= data['Cantidad']\n",
        "    print(f'{clase_sitio:<40} | {cantidad} ')"
      ],
      "execution_count": null,
      "outputs": [
        {
          "output_type": "stream",
          "text": [
            "Clase de sitio                            Homidicios\n",
            "VIAS PUBLICAS                            | 7699 \n",
            "FINCAS Y SIMILARES                       | 1352 \n",
            "CASAS DE HABITACION                      | 750 \n",
            "CARRETERA                                | 379 \n",
            "FRENTE A RESIDENCIAS - VIA PUBLICA       | 304 \n",
            "RIOS                                     | 182 \n",
            "LOTE BALDIO                              | 181 \n",
            "BARES, CANTINAS Y SIMILARES              | 172 \n",
            "DENTRO DE LA VIVIENDA                    | 132 \n",
            "PARQUES                                  | 79 \n"
          ],
          "name": "stdout"
        }
      ]
    },
    {
      "cell_type": "markdown",
      "metadata": {
        "id": "7c-PQXVZ9EGr",
        "colab_type": "text"
      },
      "source": [
        "Se evidencia que con una gran diferencia es en las Vias públicas donde ocurre la mayor cantidad de homicidios.\n",
        "\n",
        "Luego, se quiere observar algunas información temporal. En primer lugar se hace un recuento de los homicidios en cada mes:"
      ]
    },
    {
      "cell_type": "code",
      "metadata": {
        "id": "5gaM6_LJI8j8",
        "colab_type": "code",
        "colab": {
          "base_uri": "https://localhost:8080/",
          "height": 238
        },
        "outputId": "f4b4e7f1-5df1-436f-8eef-b51bdbebb7ea"
      },
      "source": [
        "query = \"\"\"\n",
        "    SELECT EXTRACT(Month from Fecha ) as mes, Sum(Cantidad) as Cantidad\n",
        "    FROM `homicidios_dataset.homicidios_2018_table`\n",
        "    GROUP BY mes\n",
        "    ORDER BY cantidad\n",
        "    DESC\n",
        "    \"\"\"\n",
        "results = client.query(query)\n",
        "print('Mes'.ljust(6),'Homidicios')\n",
        "for data in results:\n",
        "    mes= data['mes']\n",
        "    cantidad= data['Cantidad']\n",
        "    print(f'{mes:<5} | {cantidad} ')"
      ],
      "execution_count": null,
      "outputs": [
        {
          "output_type": "stream",
          "text": [
            "Mes    Homidicios\n",
            "12    | 1220 \n",
            "4     | 1119 \n",
            "1     | 1113 \n",
            "3     | 1109 \n",
            "8     | 1079 \n",
            "7     | 1061 \n",
            "9     | 1020 \n",
            "10    | 1014 \n",
            "5     | 1006 \n",
            "11    | 994 \n",
            "6     | 987 \n",
            "2     | 945 \n"
          ],
          "name": "stdout"
        }
      ]
    },
    {
      "cell_type": "markdown",
      "metadata": {
        "id": "PEFWOLDR9FA1",
        "colab_type": "text"
      },
      "source": [
        "Se obtuvo que en diciembre es el mes con más asesinatos durante 2018.Luego, se observa el número de homicidios en los diferentes días de la semana:"
      ]
    },
    {
      "cell_type": "code",
      "metadata": {
        "id": "SXZnRv6ZI8sK",
        "colab_type": "code",
        "colab": {
          "base_uri": "https://localhost:8080/",
          "height": 153
        },
        "outputId": "94e33480-b26f-4789-f584-5e217c71f7f7"
      },
      "source": [
        "query = \"\"\"\n",
        "    SELECT D__a as dia, Sum(Cantidad) as Cantidad\n",
        "    FROM `homicidios_dataset.homicidios_2018_table`\n",
        "    GROUP BY dia\n",
        "    ORDER BY cantidad\n",
        "    DESC \n",
        "    \"\"\"\n",
        "results = client.query(query)\n",
        "print('Día'.ljust(16),'Homidicios')\n",
        "for data in results:\n",
        "    dia= data['dia']\n",
        "    cantidad= data['Cantidad']\n",
        "    print(f'{dia:<15} | {cantidad} ')"
      ],
      "execution_count": null,
      "outputs": [
        {
          "output_type": "stream",
          "text": [
            "Día              Homidicios\n",
            "Domingo         | 2680 \n",
            "Sábado          | 2035 \n",
            "Lunes           | 1832 \n",
            "Viernes         | 1594 \n",
            "Miércoles       | 1536 \n",
            "Martes          | 1506 \n",
            "Jueves          | 1484 \n"
          ],
          "name": "stdout"
        }
      ]
    },
    {
      "cell_type": "markdown",
      "metadata": {
        "id": "8oHXjUB29FwT",
        "colab_type": "text"
      },
      "source": [
        "Como era de esperarse los fines de semana presentaron la mayor cantidad de homicidios. Ahora, se evidencia la cantidad de asesinatos en cada hora:"
      ]
    },
    {
      "cell_type": "code",
      "metadata": {
        "id": "zMevQQshI87g",
        "colab_type": "code",
        "colab": {
          "base_uri": "https://localhost:8080/",
          "height": 204
        },
        "outputId": "f4bc3453-d68a-4383-e97f-0dd0af444c99"
      },
      "source": [
        "query = \"\"\"\n",
        "    SELECT EXTRACT(HOUR from Hora ) as hora, Sum(Cantidad) as Cantidad\n",
        "    FROM `homicidios_dataset.homicidios_2018_table`\n",
        "    GROUP BY hora\n",
        "    ORDER BY cantidad\n",
        "    DESC LIMIT 10\n",
        "    \"\"\"\n",
        "results = client.query(query)\n",
        "print('Hora'.ljust(6),'Homidicios')\n",
        "for data in results:\n",
        "    hora= data['hora']\n",
        "    cantidad= data['Cantidad']\n",
        "    print(f'{hora:<5} | {cantidad} ')"
      ],
      "execution_count": null,
      "outputs": [
        {
          "output_type": "stream",
          "text": [
            "Hora   Homidicios\n",
            "20    | 1044 \n",
            "21    | 983 \n",
            "19    | 875 \n",
            "22    | 711 \n",
            "23    | 651 \n",
            "18    | 629 \n",
            "17    | 565 \n",
            "0     | 550 \n",
            "13    | 520 \n",
            "16    | 494 \n"
          ],
          "name": "stdout"
        }
      ]
    },
    {
      "cell_type": "markdown",
      "metadata": {
        "id": "xUk7v8Xx9HSE",
        "colab_type": "text"
      },
      "source": [
        "Se observa que durante la noche ocurren la mayor cantidad de homicidios como es lógico.\n",
        "\n",
        "Se explora las armas que ha sido usadas en homicidios:"
      ]
    },
    {
      "cell_type": "code",
      "metadata": {
        "id": "LgCFbx5pvEgw",
        "colab_type": "code",
        "colab": {
          "base_uri": "https://localhost:8080/",
          "height": 323
        },
        "outputId": "86220361-9915-48a1-9e18-e53cb786eb2a"
      },
      "source": [
        "query = \"\"\"\n",
        "    SELECT Arma_empleada as Arma, Sum(Cantidad) as Cantidad\n",
        "    FROM `homicidios_dataset.homicidios_2018_table`\n",
        "    GROUP BY Arma\n",
        "    ORDER BY cantidad\n",
        "    DESC\n",
        "    \"\"\"\n",
        "results = client.query(query)\n",
        "print('Arma'.ljust(36),'Homidicios')\n",
        "for data in results:\n",
        "    arma= data['Arma']\n",
        "    cantidad= data['Cantidad']\n",
        "    print(f'{arma:<35} | {cantidad} ')"
      ],
      "execution_count": null,
      "outputs": [
        {
          "output_type": "stream",
          "text": [
            "Arma                                 Homidicios\n",
            "ARMA DE FUEGO                       | 9173 \n",
            "ARMA BLANCA / CORTOPUNZANTE         | 2768 \n",
            "CONTUNDENTES                        | 547 \n",
            "CUERDA/SOGA/CADENA                  | 39 \n",
            "ARTEFACTO EXPLOSIVO/CARGA DINAMITA  | 39 \n",
            "BOLSA PLASTICA                      | 23 \n",
            "CINTAS/CINTURON                     | 14 \n",
            "MINA ANTIPERSONA                    | 14 \n",
            "SIN EMPLEO DE ARMAS                 | 11 \n",
            "COMBUSTIBLE                         | 10 \n",
            "GRANADA DE MANO                     | 8 \n",
            "ALMOHADA                            | 7 \n",
            "ARTEFACTO INCENDIARIO               | 5 \n",
            "NO REPORTADO                        | 4 \n",
            "PRENDAS DE VESTIR                   | 2 \n",
            "QUIMICOS                            | 2 \n",
            "MOTO BOMBA                          | 1 \n"
          ],
          "name": "stdout"
        }
      ]
    },
    {
      "cell_type": "markdown",
      "metadata": {
        "id": "-hqKRsnZ9Ia2",
        "colab_type": "text"
      },
      "source": [
        "Las armas de fuego y cortopunzante son las más usadas para este crimen.\n",
        "\n",
        "Se observa el empleo de las personas que fueron asesinadas:"
      ]
    },
    {
      "cell_type": "code",
      "metadata": {
        "id": "voZnLUpAvEtx",
        "colab_type": "code",
        "colab": {
          "base_uri": "https://localhost:8080/",
          "height": 459
        },
        "outputId": "83b93686-089a-4e1d-ee04-712eff6550f2"
      },
      "source": [
        "query = \"\"\"\n",
        "    SELECT Clase_de_empleado as clase_empleado, Sum(Cantidad) as Cantidad\n",
        "    FROM `homicidios_dataset.homicidios_2018_table`\n",
        "    GROUP BY clase_empleado\n",
        "    ORDER BY cantidad\n",
        "    DESC \n",
        "    \"\"\"\n",
        "results = client.query(query)\n",
        "print('Clase Empleado'.ljust(26),'Homidicios')\n",
        "for data in results:\n",
        "    clase_empleado= data['clase_empleado']\n",
        "    cantidad= data['Cantidad']\n",
        "    print(f'{clase_empleado:<25} | {cantidad} ')"
      ],
      "execution_count": null,
      "outputs": [
        {
          "output_type": "stream",
          "text": [
            "Clase Empleado             Homidicios\n",
            "EMPLEADO PARTICULAR       | 4260 \n",
            "INDEPENDIENTE             | 3912 \n",
            "DESEMPLEADO               | 2070 \n",
            "AGRICULTOR                | 860 \n",
            "COMERCIANTE               | 432 \n",
            "ESTUDIANTE                | 326 \n",
            "AMA DE CASA               | 280 \n",
            "EMPLEADO EJERCITO         | 95 \n",
            "EMPLEADO POLICIAL         | 81 \n",
            "DELINCUENCIA              | 69 \n",
            "PENSIONADO                | 59 \n",
            "NO REPORTA                | 40 \n",
            "LIDER CIVICO              | 33 \n",
            "ETNIA INDIGENA            | 33 \n",
            "EMPLEADO PUBLICO          | 29 \n",
            "GRUPOS ILEGALES           | 23 \n",
            "EDUCADOR                  | 17 \n",
            "GANADERO                  | 13 \n",
            "EMPLEADO SALUD            | 11 \n",
            "EMPLEADO ARMADA/MARINA    | 6 \n",
            "EMPLEADO INPEC            | 5 \n",
            "AFRODESCENDIENTE          | 4 \n",
            "DEPORTISTA                | 4 \n",
            "EMPLEADO CTI              | 3 \n",
            "POLITICO                  | 2 \n"
          ],
          "name": "stdout"
        }
      ]
    },
    {
      "cell_type": "markdown",
      "metadata": {
        "id": "6zA2Xu4O9KbL",
        "colab_type": "text"
      },
      "source": [
        "El empleado particular y independiente junto con los desempledos son los más afectados."
      ]
    },
    {
      "cell_type": "markdown",
      "metadata": {
        "id": "fmvv5yFuKvCH",
        "colab_type": "text"
      },
      "source": [
        "## Exploración de datos mediante Pandas"
      ]
    },
    {
      "cell_type": "markdown",
      "metadata": {
        "id": "VbN0Y785CWWF",
        "colab_type": "text"
      },
      "source": [
        "Ahora, se utiliza la libreria Pandas para el manejo y análisis de los datos. En primer lugar, se observan los nombre de las columnas:"
      ]
    },
    {
      "cell_type": "code",
      "metadata": {
        "id": "KCEblV733eBo",
        "colab_type": "code",
        "colab": {
          "base_uri": "https://localhost:8080/",
          "height": 119
        },
        "outputId": "2c23302a-1f7c-43cb-daee-12a38cbb792e"
      },
      "source": [
        "homicidios_2018.columns"
      ],
      "execution_count": null,
      "outputs": [
        {
          "output_type": "execute_result",
          "data": {
            "text/plain": [
              "Index(['Fecha', 'Departamento', 'Municipio', 'Día', 'Hora', 'Barrio', 'Zona',\n",
              "       'Clase de sitio', 'Arma empleada', 'Móvil Agresor', 'Móvil Victima',\n",
              "       'Edad', 'Sexo', 'Estado civil', 'País de nacimiento',\n",
              "       'Clase de empleado', 'Profesión', 'Escolaridad', 'Código DANE',\n",
              "       'Cantidad'],\n",
              "      dtype='object')"
            ]
          },
          "metadata": {
            "tags": []
          },
          "execution_count": 126
        }
      ]
    },
    {
      "cell_type": "markdown",
      "metadata": {
        "id": "8ySGV230Cmc7",
        "colab_type": "text"
      },
      "source": [
        "Se calcula el tamaño de la base de datos:"
      ]
    },
    {
      "cell_type": "code",
      "metadata": {
        "id": "ACL4KmY64aUC",
        "colab_type": "code",
        "colab": {
          "base_uri": "https://localhost:8080/",
          "height": 34
        },
        "outputId": "44b58ac2-cf9c-4d82-ad07-ff258afa2d1e"
      },
      "source": [
        "homicidios_2018.shape"
      ],
      "execution_count": null,
      "outputs": [
        {
          "output_type": "execute_result",
          "data": {
            "text/plain": [
              "(12646, 20)"
            ]
          },
          "metadata": {
            "tags": []
          },
          "execution_count": 127
        }
      ]
    },
    {
      "cell_type": "markdown",
      "metadata": {
        "id": "KSf_jRzsC_Bh",
        "colab_type": "text"
      },
      "source": [
        "12646 fila y 20 columnas, se observa las primeras 5 filas y las últimas 5:"
      ]
    },
    {
      "cell_type": "code",
      "metadata": {
        "id": "szdv9KtaHPvE",
        "colab_type": "code",
        "colab": {
          "base_uri": "https://localhost:8080/",
          "height": 360
        },
        "outputId": "b3e5d3d0-dc59-4841-9d2a-48517724f224"
      },
      "source": [
        "homicidios_2018.head()"
      ],
      "execution_count": null,
      "outputs": [
        {
          "output_type": "execute_result",
          "data": {
            "text/html": [
              "<div>\n",
              "<style scoped>\n",
              "    .dataframe tbody tr th:only-of-type {\n",
              "        vertical-align: middle;\n",
              "    }\n",
              "\n",
              "    .dataframe tbody tr th {\n",
              "        vertical-align: top;\n",
              "    }\n",
              "\n",
              "    .dataframe thead th {\n",
              "        text-align: right;\n",
              "    }\n",
              "</style>\n",
              "<table border=\"1\" class=\"dataframe\">\n",
              "  <thead>\n",
              "    <tr style=\"text-align: right;\">\n",
              "      <th></th>\n",
              "      <th>Fecha</th>\n",
              "      <th>Departamento</th>\n",
              "      <th>Municipio</th>\n",
              "      <th>Día</th>\n",
              "      <th>Hora</th>\n",
              "      <th>Barrio</th>\n",
              "      <th>Zona</th>\n",
              "      <th>Clase de sitio</th>\n",
              "      <th>Arma empleada</th>\n",
              "      <th>Móvil Agresor</th>\n",
              "      <th>Móvil Victima</th>\n",
              "      <th>Edad</th>\n",
              "      <th>Sexo</th>\n",
              "      <th>Estado civil</th>\n",
              "      <th>País de nacimiento</th>\n",
              "      <th>Clase de empleado</th>\n",
              "      <th>Profesión</th>\n",
              "      <th>Escolaridad</th>\n",
              "      <th>Código DANE</th>\n",
              "      <th>Cantidad</th>\n",
              "    </tr>\n",
              "  </thead>\n",
              "  <tbody>\n",
              "    <tr>\n",
              "      <th>0</th>\n",
              "      <td>2018-01-01</td>\n",
              "      <td>AMAZONAS</td>\n",
              "      <td>LETICIA (CT)</td>\n",
              "      <td>Lunes</td>\n",
              "      <td>09:45:00</td>\n",
              "      <td>ESPERANZA</td>\n",
              "      <td>URBANA</td>\n",
              "      <td>VIAS PUBLICAS</td>\n",
              "      <td>ARMA BLANCA / CORTOPUNZANTE</td>\n",
              "      <td>A PIE</td>\n",
              "      <td>A PIE</td>\n",
              "      <td>16</td>\n",
              "      <td>MASCULINO</td>\n",
              "      <td>SOLTERO</td>\n",
              "      <td>BRASIL</td>\n",
              "      <td>EMPLEADO PARTICULAR</td>\n",
              "      <td>-</td>\n",
              "      <td>SECUNDARIA</td>\n",
              "      <td>91001000.0</td>\n",
              "      <td>1</td>\n",
              "    </tr>\n",
              "    <tr>\n",
              "      <th>1</th>\n",
              "      <td>2018-01-01</td>\n",
              "      <td>AMAZONAS</td>\n",
              "      <td>LETICIA (CT)</td>\n",
              "      <td>Lunes</td>\n",
              "      <td>09:45:00</td>\n",
              "      <td>ESPERANZA</td>\n",
              "      <td>URBANA</td>\n",
              "      <td>VIAS PUBLICAS</td>\n",
              "      <td>ARMA BLANCA / CORTOPUNZANTE</td>\n",
              "      <td>A PIE</td>\n",
              "      <td>A PIE</td>\n",
              "      <td>17</td>\n",
              "      <td>MASCULINO</td>\n",
              "      <td>SOLTERO</td>\n",
              "      <td>BRASIL</td>\n",
              "      <td>EMPLEADO PARTICULAR</td>\n",
              "      <td>-</td>\n",
              "      <td>SECUNDARIA</td>\n",
              "      <td>91001000.0</td>\n",
              "      <td>1</td>\n",
              "    </tr>\n",
              "    <tr>\n",
              "      <th>2</th>\n",
              "      <td>2018-01-01</td>\n",
              "      <td>ANTIOQUIA</td>\n",
              "      <td>ANDES</td>\n",
              "      <td>Lunes</td>\n",
              "      <td>08:30:00</td>\n",
              "      <td>ALTO DEL CEDRON</td>\n",
              "      <td>RURAL</td>\n",
              "      <td>VIAS PUBLICAS</td>\n",
              "      <td>ARMA DE FUEGO</td>\n",
              "      <td>A PIE</td>\n",
              "      <td>A PIE</td>\n",
              "      <td>26</td>\n",
              "      <td>MASCULINO</td>\n",
              "      <td>SOLTERO</td>\n",
              "      <td>COLOMBIA</td>\n",
              "      <td>INDEPENDIENTE</td>\n",
              "      <td>-</td>\n",
              "      <td>PRIMARIA</td>\n",
              "      <td>5034000.0</td>\n",
              "      <td>1</td>\n",
              "    </tr>\n",
              "    <tr>\n",
              "      <th>3</th>\n",
              "      <td>2018-01-01</td>\n",
              "      <td>ANTIOQUIA</td>\n",
              "      <td>ANDES</td>\n",
              "      <td>Lunes</td>\n",
              "      <td>02:30:00</td>\n",
              "      <td>PARQUE PRINCIPAL</td>\n",
              "      <td>RURAL</td>\n",
              "      <td>PARQUES</td>\n",
              "      <td>ARMA BLANCA / CORTOPUNZANTE</td>\n",
              "      <td>A PIE</td>\n",
              "      <td>A PIE</td>\n",
              "      <td>30</td>\n",
              "      <td>MASCULINO</td>\n",
              "      <td>SOLTERO</td>\n",
              "      <td>COLOMBIA</td>\n",
              "      <td>AGRICULTOR</td>\n",
              "      <td>-</td>\n",
              "      <td>PRIMARIA</td>\n",
              "      <td>5034000.0</td>\n",
              "      <td>1</td>\n",
              "    </tr>\n",
              "    <tr>\n",
              "      <th>4</th>\n",
              "      <td>2018-01-01</td>\n",
              "      <td>ANTIOQUIA</td>\n",
              "      <td>ANORÍ</td>\n",
              "      <td>Lunes</td>\n",
              "      <td>03:30:00</td>\n",
              "      <td>TENCHE</td>\n",
              "      <td>RURAL</td>\n",
              "      <td>BARES, CANTINAS Y SIMILARES</td>\n",
              "      <td>ARMA BLANCA / CORTOPUNZANTE</td>\n",
              "      <td>A PIE</td>\n",
              "      <td>A PIE</td>\n",
              "      <td>25</td>\n",
              "      <td>MASCULINO</td>\n",
              "      <td>UNION LIBRE</td>\n",
              "      <td>COLOMBIA</td>\n",
              "      <td>INDEPENDIENTE</td>\n",
              "      <td>-</td>\n",
              "      <td>PRIMARIA</td>\n",
              "      <td>5040000.0</td>\n",
              "      <td>1</td>\n",
              "    </tr>\n",
              "  </tbody>\n",
              "</table>\n",
              "</div>"
            ],
            "text/plain": [
              "       Fecha Departamento     Municipio  ... Escolaridad Código DANE Cantidad\n",
              "0 2018-01-01     AMAZONAS  LETICIA (CT)  ...  SECUNDARIA  91001000.0        1\n",
              "1 2018-01-01     AMAZONAS  LETICIA (CT)  ...  SECUNDARIA  91001000.0        1\n",
              "2 2018-01-01    ANTIOQUIA         ANDES  ...    PRIMARIA   5034000.0        1\n",
              "3 2018-01-01    ANTIOQUIA         ANDES  ...    PRIMARIA   5034000.0        1\n",
              "4 2018-01-01    ANTIOQUIA         ANORÍ  ...    PRIMARIA   5040000.0        1\n",
              "\n",
              "[5 rows x 20 columns]"
            ]
          },
          "metadata": {
            "tags": []
          },
          "execution_count": 60
        }
      ]
    },
    {
      "cell_type": "code",
      "metadata": {
        "id": "wYiPClFgLQUZ",
        "colab_type": "code",
        "colab": {
          "base_uri": "https://localhost:8080/",
          "height": 326
        },
        "outputId": "9dd7013e-8ba5-4db0-8c94-9423f3672aa4"
      },
      "source": [
        "homicidios_2018.tail()"
      ],
      "execution_count": null,
      "outputs": [
        {
          "output_type": "execute_result",
          "data": {
            "text/html": [
              "<div>\n",
              "<style scoped>\n",
              "    .dataframe tbody tr th:only-of-type {\n",
              "        vertical-align: middle;\n",
              "    }\n",
              "\n",
              "    .dataframe tbody tr th {\n",
              "        vertical-align: top;\n",
              "    }\n",
              "\n",
              "    .dataframe thead th {\n",
              "        text-align: right;\n",
              "    }\n",
              "</style>\n",
              "<table border=\"1\" class=\"dataframe\">\n",
              "  <thead>\n",
              "    <tr style=\"text-align: right;\">\n",
              "      <th></th>\n",
              "      <th>Fecha</th>\n",
              "      <th>Departamento</th>\n",
              "      <th>Municipio</th>\n",
              "      <th>Día</th>\n",
              "      <th>Hora</th>\n",
              "      <th>Barrio</th>\n",
              "      <th>Zona</th>\n",
              "      <th>Clase de sitio</th>\n",
              "      <th>Arma empleada</th>\n",
              "      <th>Móvil Agresor</th>\n",
              "      <th>Móvil Victima</th>\n",
              "      <th>Edad</th>\n",
              "      <th>Sexo</th>\n",
              "      <th>Estado civil</th>\n",
              "      <th>País de nacimiento</th>\n",
              "      <th>Clase de empleado</th>\n",
              "      <th>Profesión</th>\n",
              "      <th>Escolaridad</th>\n",
              "      <th>Código DANE</th>\n",
              "      <th>Cantidad</th>\n",
              "    </tr>\n",
              "  </thead>\n",
              "  <tbody>\n",
              "    <tr>\n",
              "      <th>12641</th>\n",
              "      <td>2018-12-31</td>\n",
              "      <td>VALLE</td>\n",
              "      <td>CALI (CT)</td>\n",
              "      <td>Lunes</td>\n",
              "      <td>16:30:00</td>\n",
              "      <td>PRIMITIVO CRESPO E8</td>\n",
              "      <td>URBANA</td>\n",
              "      <td>VIAS PUBLICAS</td>\n",
              "      <td>ARMA DE FUEGO</td>\n",
              "      <td>A PIE</td>\n",
              "      <td>A PIE</td>\n",
              "      <td>20</td>\n",
              "      <td>MASCULINO</td>\n",
              "      <td>SOLTERO</td>\n",
              "      <td>COLOMBIA</td>\n",
              "      <td>INDEPENDIENTE</td>\n",
              "      <td>-</td>\n",
              "      <td>SECUNDARIA</td>\n",
              "      <td>76001000.0</td>\n",
              "      <td>1</td>\n",
              "    </tr>\n",
              "    <tr>\n",
              "      <th>12642</th>\n",
              "      <td>2018-12-31</td>\n",
              "      <td>VALLE</td>\n",
              "      <td>CALI (CT)</td>\n",
              "      <td>Lunes</td>\n",
              "      <td>21:45:00</td>\n",
              "      <td>ALTO NAPOLES E18</td>\n",
              "      <td>URBANA</td>\n",
              "      <td>VIAS PUBLICAS</td>\n",
              "      <td>ARMA BLANCA / CORTOPUNZANTE</td>\n",
              "      <td>A PIE</td>\n",
              "      <td>A PIE</td>\n",
              "      <td>24</td>\n",
              "      <td>MASCULINO</td>\n",
              "      <td>SOLTERO</td>\n",
              "      <td>COLOMBIA</td>\n",
              "      <td>DESEMPLEADO</td>\n",
              "      <td>-</td>\n",
              "      <td>SECUNDARIA</td>\n",
              "      <td>76001000.0</td>\n",
              "      <td>1</td>\n",
              "    </tr>\n",
              "    <tr>\n",
              "      <th>12643</th>\n",
              "      <td>2018-12-31</td>\n",
              "      <td>VALLE</td>\n",
              "      <td>JAMUNDÍ</td>\n",
              "      <td>Lunes</td>\n",
              "      <td>20:10:00</td>\n",
              "      <td>INVASION LA PLAYITA E24</td>\n",
              "      <td>URBANA</td>\n",
              "      <td>VIAS PUBLICAS</td>\n",
              "      <td>ARMA DE FUEGO</td>\n",
              "      <td>A PIE</td>\n",
              "      <td>A PIE</td>\n",
              "      <td>12</td>\n",
              "      <td>MASCULINO</td>\n",
              "      <td>SOLTERO</td>\n",
              "      <td>COLOMBIA</td>\n",
              "      <td>INDEPENDIENTE</td>\n",
              "      <td>-</td>\n",
              "      <td>PRIMARIA</td>\n",
              "      <td>76364000.0</td>\n",
              "      <td>1</td>\n",
              "    </tr>\n",
              "    <tr>\n",
              "      <th>12644</th>\n",
              "      <td>2018-12-31</td>\n",
              "      <td>VALLE</td>\n",
              "      <td>PALMIRA</td>\n",
              "      <td>Lunes</td>\n",
              "      <td>09:30:00</td>\n",
              "      <td>CORREGIMIENTO PALMASECA</td>\n",
              "      <td>RURAL</td>\n",
              "      <td>VIAS PUBLICAS</td>\n",
              "      <td>ARMA DE FUEGO</td>\n",
              "      <td>A PIE</td>\n",
              "      <td>A PIE</td>\n",
              "      <td>17</td>\n",
              "      <td>MASCULINO</td>\n",
              "      <td>SOLTERO</td>\n",
              "      <td>COLOMBIA</td>\n",
              "      <td>INDEPENDIENTE</td>\n",
              "      <td>-</td>\n",
              "      <td>SECUNDARIA</td>\n",
              "      <td>76520000.0</td>\n",
              "      <td>1</td>\n",
              "    </tr>\n",
              "    <tr>\n",
              "      <th>12645</th>\n",
              "      <td>2018-12-31</td>\n",
              "      <td>VALLE</td>\n",
              "      <td>TULUÁ</td>\n",
              "      <td>Lunes</td>\n",
              "      <td>03:10:00</td>\n",
              "      <td>La Esperanza</td>\n",
              "      <td>URBANA</td>\n",
              "      <td>VIAS PUBLICAS</td>\n",
              "      <td>ARMA BLANCA / CORTOPUNZANTE</td>\n",
              "      <td>A PIE</td>\n",
              "      <td>A PIE</td>\n",
              "      <td>16</td>\n",
              "      <td>MASCULINO</td>\n",
              "      <td>SOLTERO</td>\n",
              "      <td>COLOMBIA</td>\n",
              "      <td>ESTUDIANTE</td>\n",
              "      <td>-</td>\n",
              "      <td>SECUNDARIA</td>\n",
              "      <td>76834000.0</td>\n",
              "      <td>1</td>\n",
              "    </tr>\n",
              "  </tbody>\n",
              "</table>\n",
              "</div>"
            ],
            "text/plain": [
              "           Fecha Departamento  Municipio  ... Escolaridad Código DANE Cantidad\n",
              "12641 2018-12-31        VALLE  CALI (CT)  ...  SECUNDARIA  76001000.0        1\n",
              "12642 2018-12-31        VALLE  CALI (CT)  ...  SECUNDARIA  76001000.0        1\n",
              "12643 2018-12-31        VALLE    JAMUNDÍ  ...    PRIMARIA  76364000.0        1\n",
              "12644 2018-12-31        VALLE    PALMIRA  ...  SECUNDARIA  76520000.0        1\n",
              "12645 2018-12-31        VALLE      TULUÁ  ...  SECUNDARIA  76834000.0        1\n",
              "\n",
              "[5 rows x 20 columns]"
            ]
          },
          "metadata": {
            "tags": []
          },
          "execution_count": 61
        }
      ]
    },
    {
      "cell_type": "markdown",
      "metadata": {
        "id": "uA5K5kEKDr21",
        "colab_type": "text"
      },
      "source": [
        "Se calcula la cantidad de homicidios:"
      ]
    },
    {
      "cell_type": "code",
      "metadata": {
        "id": "CiKfomuf-Olh",
        "colab_type": "code",
        "colab": {
          "base_uri": "https://localhost:8080/",
          "height": 34
        },
        "outputId": "0305ff8d-567c-4265-cd51-95b55034c374"
      },
      "source": [
        "homicidios_2018[\"Cantidad\"].sum()"
      ],
      "execution_count": 5,
      "outputs": [
        {
          "output_type": "execute_result",
          "data": {
            "text/plain": [
              "12667"
            ]
          },
          "metadata": {
            "tags": []
          },
          "execution_count": 5
        }
      ]
    },
    {
      "cell_type": "markdown",
      "metadata": {
        "id": "80n50g9vDxVZ",
        "colab_type": "text"
      },
      "source": [
        "Se elimina la columna \"Código Dane que no sera usado para los análisis:"
      ]
    },
    {
      "cell_type": "code",
      "metadata": {
        "id": "yP3Jregx-ihi",
        "colab_type": "code",
        "colab": {}
      },
      "source": [
        "homicidios_2018=homicidios_2018.drop(['Código DANE'], axis=1)"
      ],
      "execution_count": 6,
      "outputs": []
    },
    {
      "cell_type": "markdown",
      "metadata": {
        "id": "b9_EDFaUDz45",
        "colab_type": "text"
      },
      "source": [
        "Se realiza las operaciones para obtener los municipios con mayor cantidad de asesinatos por mes.\n",
        "\n",
        "En primer lugar, se agrupa por mes y municipio y se calcula cantidad hommicidios:"
      ]
    },
    {
      "cell_type": "code",
      "metadata": {
        "id": "r2UTitJ-6EBC",
        "colab_type": "code",
        "colab": {}
      },
      "source": [
        "top=homicidios_2018.groupby(by=[ pandas.DatetimeIndex(homicidios_2018['Fecha']).month,\"Municipio\"]).sum()"
      ],
      "execution_count": 81,
      "outputs": []
    },
    {
      "cell_type": "markdown",
      "metadata": {
        "id": "Be0X9HD9EqTs",
        "colab_type": "text"
      },
      "source": [
        "Se seleccionar el Top 3 por mes:"
      ]
    },
    {
      "cell_type": "code",
      "metadata": {
        "id": "fRcjGR9W_d2h",
        "colab_type": "code",
        "colab": {}
      },
      "source": [
        "top=top.groupby('Fecha')['Cantidad'].nlargest(3)\n"
      ],
      "execution_count": 82,
      "outputs": []
    },
    {
      "cell_type": "code",
      "metadata": {
        "id": "4-RuothIF5pl",
        "colab_type": "code",
        "colab": {
          "base_uri": "https://localhost:8080/",
          "height": 663
        },
        "outputId": "0d7a0cac-48e9-483a-9e3e-478b48b80270"
      },
      "source": [
        "top"
      ],
      "execution_count": 83,
      "outputs": [
        {
          "output_type": "execute_result",
          "data": {
            "text/plain": [
              "Fecha  Fecha  Municipio       \n",
              "1      1      CALI (CT)           106\n",
              "              BOGOTÁ D.C. (CT)     83\n",
              "              MEDELLÍN (CT)        56\n",
              "2      2      BOGOTÁ D.C. (CT)     87\n",
              "              CALI (CT)            85\n",
              "              MEDELLÍN (CT)        40\n",
              "3      3      CALI (CT)           127\n",
              "              BOGOTÁ D.C. (CT)     93\n",
              "              MEDELLÍN (CT)        42\n",
              "4      4      CALI (CT)           118\n",
              "              BOGOTÁ D.C. (CT)     89\n",
              "              MEDELLÍN (CT)        57\n",
              "5      5      CALI (CT)            91\n",
              "              BOGOTÁ D.C. (CT)     84\n",
              "              MEDELLÍN (CT)        64\n",
              "6      6      CALI (CT)            78\n",
              "              BOGOTÁ D.C. (CT)     70\n",
              "              MEDELLÍN (CT)        66\n",
              "7      7      CALI (CT)            95\n",
              "              BOGOTÁ D.C. (CT)     93\n",
              "              MEDELLÍN (CT)        54\n",
              "8      8      CALI (CT)           100\n",
              "              BOGOTÁ D.C. (CT)     85\n",
              "              MEDELLÍN (CT)        52\n",
              "9      9      BOGOTÁ D.C. (CT)    100\n",
              "              CALI (CT)            76\n",
              "              MEDELLÍN (CT)        42\n",
              "10     10     BOGOTÁ D.C. (CT)     79\n",
              "              CALI (CT)            78\n",
              "              MEDELLÍN (CT)        51\n",
              "11     11     CALI (CT)            93\n",
              "              BOGOTÁ D.C. (CT)     86\n",
              "              MEDELLÍN (CT)        46\n",
              "12     12     BOGOTÁ D.C. (CT)    115\n",
              "              CALI (CT)           112\n",
              "              MEDELLÍN (CT)        56\n",
              "Name: Cantidad, dtype: int64"
            ]
          },
          "metadata": {
            "tags": []
          },
          "execution_count": 83
        }
      ]
    },
    {
      "cell_type": "markdown",
      "metadata": {
        "id": "m_T2-NSmFyOk",
        "colab_type": "text"
      },
      "source": [
        "Como se habia visto en la explaroción en SQL las ciudades que están en el top todos los meses son Cali, Medellin y Bogotá."
      ]
    },
    {
      "cell_type": "markdown",
      "metadata": {
        "id": "diUjX2GDFhJF",
        "colab_type": "text"
      },
      "source": [
        "Ahora, para Bogotá se ecuentran los barrios con más homicidios durante 6pm a 12pm:"
      ]
    },
    {
      "cell_type": "code",
      "metadata": {
        "id": "fcDj_YJ_Y0HA",
        "colab_type": "code",
        "colab": {}
      },
      "source": [
        "homicidios_2018['Hora']=pandas.to_datetime(homicidios_2018['Hora'], format='%H:%M:%S')"
      ],
      "execution_count": 50,
      "outputs": []
    },
    {
      "cell_type": "code",
      "metadata": {
        "id": "K8CCrbLs3U1v",
        "colab_type": "code",
        "colab": {}
      },
      "source": [
        "barrios=homicidios_2018[ (homicidios_2018['Municipio']=='BOGOTÁ D.C. (CT)')  &  (homicidios_2018['Hora'].dt.hour>=18 )]"
      ],
      "execution_count": 51,
      "outputs": []
    },
    {
      "cell_type": "code",
      "metadata": {
        "id": "QBn3vss25T86",
        "colab_type": "code",
        "colab": {}
      },
      "source": [
        "barrios=barrios.groupby(by=[ \"Barrio\"]).sum()"
      ],
      "execution_count": 52,
      "outputs": []
    },
    {
      "cell_type": "code",
      "metadata": {
        "id": "1BwSLfTF8mK5",
        "colab_type": "code",
        "colab": {}
      },
      "source": [
        "barrios=barrios.nlargest(10,'Cantidad')"
      ],
      "execution_count": 53,
      "outputs": []
    },
    {
      "cell_type": "code",
      "metadata": {
        "id": "TUpRYfsGjI_u",
        "colab_type": "code",
        "colab": {
          "base_uri": "https://localhost:8080/",
          "height": 390
        },
        "outputId": "e40f10ce-c63d-4651-b8b5-d0b1b5081798"
      },
      "source": [
        "barrios"
      ],
      "execution_count": 54,
      "outputs": [
        {
          "output_type": "execute_result",
          "data": {
            "text/html": [
              "<div>\n",
              "<style scoped>\n",
              "    .dataframe tbody tr th:only-of-type {\n",
              "        vertical-align: middle;\n",
              "    }\n",
              "\n",
              "    .dataframe tbody tr th {\n",
              "        vertical-align: top;\n",
              "    }\n",
              "\n",
              "    .dataframe thead th {\n",
              "        text-align: right;\n",
              "    }\n",
              "</style>\n",
              "<table border=\"1\" class=\"dataframe\">\n",
              "  <thead>\n",
              "    <tr style=\"text-align: right;\">\n",
              "      <th></th>\n",
              "      <th>Cantidad</th>\n",
              "    </tr>\n",
              "    <tr>\n",
              "      <th>Barrio</th>\n",
              "      <th></th>\n",
              "    </tr>\n",
              "  </thead>\n",
              "  <tbody>\n",
              "    <tr>\n",
              "      <th>EL PARAISO E-19</th>\n",
              "      <td>7</td>\n",
              "    </tr>\n",
              "    <tr>\n",
              "      <th>ARBORIZADORA ALTA E-19</th>\n",
              "      <td>6</td>\n",
              "    </tr>\n",
              "    <tr>\n",
              "      <th>CANDELARIA III-IV E-19</th>\n",
              "      <td>6</td>\n",
              "    </tr>\n",
              "    <tr>\n",
              "      <th>DIANA TURBAY E-18</th>\n",
              "      <td>5</td>\n",
              "    </tr>\n",
              "    <tr>\n",
              "      <th>GRAN BRITALIA E-8</th>\n",
              "      <td>5</td>\n",
              "    </tr>\n",
              "    <tr>\n",
              "      <th>CARACOLI E-19</th>\n",
              "      <td>4</td>\n",
              "    </tr>\n",
              "    <tr>\n",
              "      <th>JUAN PABLO II E-19</th>\n",
              "      <td>4</td>\n",
              "    </tr>\n",
              "    <tr>\n",
              "      <th>LA FAVORITA E-14</th>\n",
              "      <td>4</td>\n",
              "    </tr>\n",
              "    <tr>\n",
              "      <th>LA LIBERTAD E-7</th>\n",
              "      <td>4</td>\n",
              "    </tr>\n",
              "    <tr>\n",
              "      <th>LLANO GRANDE E-8</th>\n",
              "      <td>4</td>\n",
              "    </tr>\n",
              "  </tbody>\n",
              "</table>\n",
              "</div>"
            ],
            "text/plain": [
              "                        Cantidad\n",
              "Barrio                          \n",
              "EL PARAISO E-19                7\n",
              "ARBORIZADORA ALTA E-19         6\n",
              "CANDELARIA III-IV E-19         6\n",
              "DIANA TURBAY E-18              5\n",
              "GRAN BRITALIA E-8              5\n",
              "CARACOLI E-19                  4\n",
              "JUAN PABLO II E-19             4\n",
              "LA FAVORITA E-14               4\n",
              "LA LIBERTAD E-7                4\n",
              "LLANO GRANDE E-8               4"
            ]
          },
          "metadata": {
            "tags": []
          },
          "execution_count": 54
        }
      ]
    },
    {
      "cell_type": "code",
      "metadata": {
        "id": "u7VQoClji_Ad",
        "colab_type": "code",
        "colab": {}
      },
      "source": [
        "cantidad=np.concatenate( barrios.values, axis=0 )"
      ],
      "execution_count": 55,
      "outputs": []
    },
    {
      "cell_type": "code",
      "metadata": {
        "id": "gXlsJ1WEjCVT",
        "colab_type": "code",
        "colab": {
          "base_uri": "https://localhost:8080/",
          "height": 312
        },
        "outputId": "186982e9-3bd2-4ebe-b1b9-1d5307bb55df"
      },
      "source": [
        "plt.barh(barrios.index.values,cantidad,align='center')\n",
        "plt.xlabel('Homicidios')\n",
        "\n",
        "plt.title('Top Barrios con más homicidos (Bogotá)')\n"
      ],
      "execution_count": 56,
      "outputs": [
        {
          "output_type": "execute_result",
          "data": {
            "text/plain": [
              "Text(0.5, 1.0, 'Top Barrios con más homicidos (Bogotá)')"
            ]
          },
          "metadata": {
            "tags": []
          },
          "execution_count": 56
        },
        {
          "output_type": "display_data",
          "data": {
            "image/png": "[encoded data removed]",
            "text/plain": [
              "<Figure size 432x288 with 1 Axes>"
            ]
          },
          "metadata": {
            "tags": [],
            "needs_background": "light"
          }
        }
      ]
    },
    {
      "cell_type": "markdown",
      "metadata": {
        "id": "pOySXMzcZX45",
        "colab_type": "text"
      },
      "source": [
        "Se explora que edad tiene la mayor parte de las victimas:"
      ]
    },
    {
      "cell_type": "code",
      "metadata": {
        "id": "LTY0_jJWi_7V",
        "colab_type": "code",
        "colab": {}
      },
      "source": [
        "edad=homicidios_2018.groupby(by=[\"Edad\"]).sum().nlargest(10,'Cantidad')"
      ],
      "execution_count": 33,
      "outputs": []
    },
    {
      "cell_type": "code",
      "metadata": {
        "id": "OWoxY8-Dhrox",
        "colab_type": "code",
        "colab": {}
      },
      "source": [
        "cantidad=np.concatenate( edad.values, axis=0 )"
      ],
      "execution_count": 34,
      "outputs": []
    },
    {
      "cell_type": "code",
      "metadata": {
        "id": "MYp9hKrKMTuv",
        "colab_type": "code",
        "colab": {
          "base_uri": "https://localhost:8080/",
          "height": 312
        },
        "outputId": "8be38714-6c26-4e5c-97ad-e37a9c6df37e"
      },
      "source": [
        "plt.bar(edad.index.values,cantidad,align='center')\n",
        "plt.xlabel('Edad')\n",
        "plt.ylabel('Homicidios')\n",
        "\n",
        "plt.title('Top edades con más homicidos ')"
      ],
      "execution_count": 37,
      "outputs": [
        {
          "output_type": "execute_result",
          "data": {
            "text/plain": [
              "Text(0.5, 1.0, 'Top edades con más homicidos ')"
            ]
          },
          "metadata": {
            "tags": []
          },
          "execution_count": 37
        },
        {
          "output_type": "display_data",
          "data": {
            "image/png": "[encoded data removed]",
            "text/plain": [
              "<Figure size 432x288 with 1 Axes>"
            ]
          },
          "metadata": {
            "tags": [],
            "needs_background": "light"
          }
        }
      ]
    },
    {
      "cell_type": "markdown",
      "metadata": {
        "id": "ljOzrN-TK_8C",
        "colab_type": "text"
      },
      "source": [
        "Como se vio en la consulta SQL cali es la ciudad con mayor cantidad de asesinatos, se buscan los barrios más afectados:"
      ]
    },
    {
      "cell_type": "code",
      "metadata": {
        "id": "RsLTt0sJK_Tz",
        "colab_type": "code",
        "colab": {}
      },
      "source": [
        "barrios=homicidios_2018[ (homicidios_2018['Municipio']=='CALI (CT)') ]"
      ],
      "execution_count": 46,
      "outputs": []
    },
    {
      "cell_type": "code",
      "metadata": {
        "id": "hCvTaAP9N7iJ",
        "colab_type": "code",
        "colab": {}
      },
      "source": [
        "barrios=barrios.groupby(by=[ \"Barrio\"]).sum().nlargest(10,'Cantidad')"
      ],
      "execution_count": 47,
      "outputs": []
    },
    {
      "cell_type": "code",
      "metadata": {
        "id": "TEtio9C1OCG2",
        "colab_type": "code",
        "colab": {}
      },
      "source": [
        "cantidad=np.concatenate( barrios.values, axis=0 )"
      ],
      "execution_count": 48,
      "outputs": []
    },
    {
      "cell_type": "code",
      "metadata": {
        "id": "a6_P-CG0fkN2",
        "colab_type": "code",
        "colab": {
          "base_uri": "https://localhost:8080/",
          "height": 312
        },
        "outputId": "31db65eb-0acf-4285-dc48-48de24ddf7ac"
      },
      "source": [
        "plt.barh(barrios.index.values,cantidad,align='center')\n",
        "plt.xlabel('Homicidios')\n",
        "\n",
        "plt.title('Top Barrios con más homicidos (Cali)')\n"
      ],
      "execution_count": 49,
      "outputs": [
        {
          "output_type": "execute_result",
          "data": {
            "text/plain": [
              "Text(0.5, 1.0, 'Top Barrios con más homicidos (Cali)')"
            ]
          },
          "metadata": {
            "tags": []
          },
          "execution_count": 49
        },
        {
          "output_type": "display_data",
          "data": {
            "image/png": "[encoded data removed]",
            "text/plain": [
              "<Figure size 432x288 with 1 Axes>"
            ]
          },
          "metadata": {
            "tags": [],
            "needs_background": "light"
          }
        }
      ]
    },
    {
      "cell_type": "markdown",
      "metadata": {
        "id": "SF_7o4EXLLzS",
        "colab_type": "text"
      },
      "source": [
        "## Modelo de Machine Learning"
      ]
    },
    {
      "cell_type": "markdown",
      "metadata": {
        "id": "qqemJSUd0UjM",
        "colab_type": "text"
      },
      "source": [
        "Decidi utilizar dos modelos de machine learning clasificatorios mediante el uso de regresión logistica, la cual permite clasificar una variable cualitativa en función de varuables cuantitativas y cualitativas(uso one hot encoder). Los modelos son para clasificar la zona en que ocurrio el homicidio y encontrar el arma usada. Estos seran de utilidad para la policia nacional para darles información adicional de cual es la zona y arma más probable durante un homicidio. Después del desarrollo de estos modelos progongo dos modelos a futuro que requeriran un desarrollo más complejo y una mayor cantidad de información.\n",
        "\n",
        "Modelos implementados: Los modelos  utilizan la variable cuantitativa \"Edad\" y las variables cualitativas 'Edad','Sexo','Departamento' y 'Clase de sitio' con el fin de prececir la zona y la arma usada. Mediante el uso de regresión logistica.\n",
        "\n",
        "Proceso:\n",
        "\n",
        "\n",
        "\n",
        "1.   Ajuste de la columna edad eliminando aquellos registros que no la tienen(23) y convirtiendo su formato a int\n",
        "2.   Creación de Pipelines para preprocesar las variables de entrada en el caso de la variable cuantitava solamente se le aplicara una normalización estandar y para lo cualitativos se llenaran los campos vacios con \"No registra\" y se aplicara One Hot Encoder que permite pasar las variables cualitativas a un representación binaria.\n",
        "\n",
        "\n",
        "Para la normalización de los datos se tiene:\n",
        "\n",
        "*   Normalizado=(x-media)/(varianza)\n",
        "\n",
        "De esta forma se tienen los datos con media 0 y desviación estandar de 1.\n",
        "\n",
        "Se realiza este proceso con el fin de centrar los datos en la misma escala. Esto evitara que existan datos que sean muy grandes comparados con los otros (datos atipicos) que desajusten el modelo.\n",
        "\n",
        "3. Usar la función \"ColumnTransformer\" para indicar a que variables se le hara transformación correspondiente y realizar esta.\n",
        "4. crear Pipelines que tengan anidado el preprocesamiento y se cree el modelo\n",
        "5. Divir los datos en entrenamiento(70%) y test(30%)\n",
        "6. Entrenar el modelo (probar solver y elegir el mejor), para esto de adecua los pesos de las clases ya que es un problema desbalanceado\n",
        "7. Evaluar en los datos de test\n",
        "\n",
        "\n",
        "Solver seleccionado:\n",
        "\n",
        "LBFGS se refiere al metodo de quasi-newton. Este calcula la dirección de descenso teniendo en cuenta la matriz Hessiana. En este caso realiza un aproximación de esta, con el fin de reducir el costo computacional y tener una dirección de descenso. En cada iteracción, se mejora esta aproximación, la cual debe ser simétrica y positiva definida.\n",
        "\n",
        "\n",
        "\n"
      ]
    },
    {
      "cell_type": "code",
      "metadata": {
        "id": "NYcDsWCDtFXK",
        "colab_type": "code",
        "colab": {
          "base_uri": "https://localhost:8080/",
          "height": 71
        },
        "outputId": "26b3a5df-b905-4f06-d959-0ffd2c85b8c7"
      },
      "source": [
        "homicidios_2018=homicidios_2018.drop( homicidios_2018[homicidios_2018['Edad']=='-'].index,axis=0)"
      ],
      "execution_count": null,
      "outputs": [
        {
          "output_type": "stream",
          "text": [
            "/usr/local/lib/python3.6/dist-packages/pandas/core/ops/array_ops.py:253: FutureWarning: elementwise comparison failed; returning scalar instead, but in the future will perform elementwise comparison\n",
            "  res_values = method(rvalues)\n"
          ],
          "name": "stderr"
        }
      ]
    },
    {
      "cell_type": "code",
      "metadata": {
        "id": "sf8hNpqotFpG",
        "colab_type": "code",
        "colab": {}
      },
      "source": [
        "homicidios_2018['Edad']= homicidios_2018['Edad'].astype(str).astype(int)"
      ],
      "execution_count": null,
      "outputs": []
    },
    {
      "cell_type": "markdown",
      "metadata": {
        "id": "cYUOMvy5ksjI",
        "colab_type": "text"
      },
      "source": [
        "Creación pipelines para preprocesamiento:"
      ]
    },
    {
      "cell_type": "code",
      "metadata": {
        "id": "Yprv5CQ98nWh",
        "colab_type": "code",
        "colab": {}
      },
      "source": [
        "cuantitativa_ajustar = Pipeline(steps=[ ('Scaler', StandardScaler())  ])"
      ],
      "execution_count": null,
      "outputs": []
    },
    {
      "cell_type": "code",
      "metadata": {
        "id": "sBcXtczq8nv-",
        "colab_type": "code",
        "colab": {}
      },
      "source": [
        "cualitativa_ajustar = Pipeline(steps=[('Simpleimputer', SimpleImputer(strategy='constant',fill_value='No registra')), ('encoder', OneHotEncoder(handle_unknown='ignore'))  ])"
      ],
      "execution_count": null,
      "outputs": []
    },
    {
      "cell_type": "markdown",
      "metadata": {
        "id": "o-ntH2B9kxA6",
        "colab_type": "text"
      },
      "source": [
        "Indicar a que columnas se aplicara la transformación y realizarla:"
      ]
    },
    {
      "cell_type": "code",
      "metadata": {
        "id": "sr9eImdtNqYB",
        "colab_type": "code",
        "colab": {}
      },
      "source": [
        "preprocesamiento = ColumnTransformer(transformers=[('cuantitativa',cuantitativa_ajustar,[\"Edad\"]),  ('cualitativa',cualitativa_ajustar ,[ \"Sexo\" , \"Departamento\", \"Clase de sitio\"])   ])"
      ],
      "execution_count": null,
      "outputs": []
    },
    {
      "cell_type": "markdown",
      "metadata": {
        "id": "NOgHECDFk3kb",
        "colab_type": "text"
      },
      "source": [
        "Definición de modelos lbfgs:"
      ]
    },
    {
      "cell_type": "code",
      "metadata": {
        "id": "tOyp-XZWNqre",
        "colab_type": "code",
        "colab": {}
      },
      "source": [
        "modelo_zona =  Pipeline(steps=[ ('preprocesamiento',preprocesamiento), ('modelo', LogisticRegression(solver='lbfgs',max_iter=1500,class_weight='balanced') )])\n",
        "\n",
        "modelo_armas = Pipeline(steps=[ ('preprocesamiento',preprocesamiento), ('modelo', LogisticRegression(solver='lbfgs',multi_class='multinomial',max_iter=1500,class_weight='balanced') )])"
      ],
      "execution_count": 316,
      "outputs": []
    },
    {
      "cell_type": "markdown",
      "metadata": {
        "id": "ylxobs2Hk29h",
        "colab_type": "text"
      },
      "source": [
        "División de datos:"
      ]
    },
    {
      "cell_type": "code",
      "metadata": {
        "id": "747z8wOFNqoo",
        "colab_type": "code",
        "colab": {}
      },
      "source": [
        "x_train, x_test, y_train, y_test= train_test_split(homicidios_2018.loc[:,['Edad','Sexo','Departamento','Clase de sitio']], homicidios_2018['Zona'],test_size = 0.30)"
      ],
      "execution_count": 317,
      "outputs": []
    },
    {
      "cell_type": "markdown",
      "metadata": {
        "id": "H0RgrlOWlE_S",
        "colab_type": "text"
      },
      "source": [
        "Entrenamiento para modelo zona"
      ]
    },
    {
      "cell_type": "code",
      "metadata": {
        "id": "bJiywCKRNqjL",
        "colab_type": "code",
        "colab": {
          "base_uri": "https://localhost:8080/",
          "height": 34
        },
        "outputId": "f6f16c42-ac4c-4699-fdca-8e3a1adb4ecc"
      },
      "source": [
        "entrenamiento_modelo_zona=modelo_zona.fit(x_train, y_train)\n",
        "predecciones=modelo_zona.predict(x_test)\n",
        "modelo_zona.score(x_test,y_test)"
      ],
      "execution_count": 318,
      "outputs": [
        {
          "output_type": "execute_result",
          "data": {
            "text/plain": [
              "0.820966464219699"
            ]
          },
          "metadata": {
            "tags": []
          },
          "execution_count": 318
        }
      ]
    },
    {
      "cell_type": "markdown",
      "metadata": {
        "id": "jTNIOAVXlGLn",
        "colab_type": "text"
      },
      "source": [
        "Observar resultados:"
      ]
    },
    {
      "cell_type": "code",
      "metadata": {
        "id": "y3Ar-AxQwvDP",
        "colab_type": "code",
        "colab": {}
      },
      "source": [
        "resultado = pandas.DataFrame(predecciones)"
      ],
      "execution_count": 319,
      "outputs": []
    },
    {
      "cell_type": "code",
      "metadata": {
        "id": "ZNiled56xuL1",
        "colab_type": "code",
        "colab": {}
      },
      "source": [
        "resultado['Cantidad'] = 1"
      ],
      "execution_count": 320,
      "outputs": []
    },
    {
      "cell_type": "code",
      "metadata": {
        "id": "Co8tbzBKzVPq",
        "colab_type": "code",
        "colab": {}
      },
      "source": [
        "resultado=resultado.groupby(0).count()"
      ],
      "execution_count": 321,
      "outputs": []
    },
    {
      "cell_type": "code",
      "metadata": {
        "id": "tn1lv0bDz7cr",
        "colab_type": "code",
        "colab": {
          "base_uri": "https://localhost:8080/",
          "height": 142
        },
        "outputId": "4be72bd1-606f-41c3-c2e2-cecfbf126010"
      },
      "source": [
        "resultado"
      ],
      "execution_count": 328,
      "outputs": [
        {
          "output_type": "execute_result",
          "data": {
            "text/html": [
              "<div>\n",
              "<style scoped>\n",
              "    .dataframe tbody tr th:only-of-type {\n",
              "        vertical-align: middle;\n",
              "    }\n",
              "\n",
              "    .dataframe tbody tr th {\n",
              "        vertical-align: top;\n",
              "    }\n",
              "\n",
              "    .dataframe thead th {\n",
              "        text-align: right;\n",
              "    }\n",
              "</style>\n",
              "<table border=\"1\" class=\"dataframe\">\n",
              "  <thead>\n",
              "    <tr style=\"text-align: right;\">\n",
              "      <th></th>\n",
              "      <th>Cantidad</th>\n",
              "    </tr>\n",
              "    <tr>\n",
              "      <th>0</th>\n",
              "      <th></th>\n",
              "    </tr>\n",
              "  </thead>\n",
              "  <tbody>\n",
              "    <tr>\n",
              "      <th>RURAL</th>\n",
              "      <td>1282</td>\n",
              "    </tr>\n",
              "    <tr>\n",
              "      <th>URBANA</th>\n",
              "      <td>2505</td>\n",
              "    </tr>\n",
              "  </tbody>\n",
              "</table>\n",
              "</div>"
            ],
            "text/plain": [
              "        Cantidad\n",
              "0               \n",
              "RURAL       1282\n",
              "URBANA      2505"
            ]
          },
          "metadata": {
            "tags": []
          },
          "execution_count": 328
        }
      ]
    },
    {
      "cell_type": "code",
      "metadata": {
        "id": "fKlABAIFzcHu",
        "colab_type": "code",
        "colab": {}
      },
      "source": [
        "original = pandas.DataFrame(y_test)"
      ],
      "execution_count": 322,
      "outputs": []
    },
    {
      "cell_type": "code",
      "metadata": {
        "id": "FQGd6Rbhzku4",
        "colab_type": "code",
        "colab": {}
      },
      "source": [
        "original['Cantidad'] = 1"
      ],
      "execution_count": 323,
      "outputs": []
    },
    {
      "cell_type": "code",
      "metadata": {
        "id": "XiCBPF5hzk4q",
        "colab_type": "code",
        "colab": {}
      },
      "source": [
        "original=original.groupby(by=['Zona']).count()"
      ],
      "execution_count": 324,
      "outputs": []
    },
    {
      "cell_type": "code",
      "metadata": {
        "id": "qaBpWrzzpGkV",
        "colab_type": "code",
        "colab": {
          "base_uri": "https://localhost:8080/",
          "height": 142
        },
        "outputId": "5c2ea0be-bb94-448f-9b95-0f5947c4e5a8"
      },
      "source": [
        "original"
      ],
      "execution_count": 325,
      "outputs": [
        {
          "output_type": "execute_result",
          "data": {
            "text/html": [
              "<div>\n",
              "<style scoped>\n",
              "    .dataframe tbody tr th:only-of-type {\n",
              "        vertical-align: middle;\n",
              "    }\n",
              "\n",
              "    .dataframe tbody tr th {\n",
              "        vertical-align: top;\n",
              "    }\n",
              "\n",
              "    .dataframe thead th {\n",
              "        text-align: right;\n",
              "    }\n",
              "</style>\n",
              "<table border=\"1\" class=\"dataframe\">\n",
              "  <thead>\n",
              "    <tr style=\"text-align: right;\">\n",
              "      <th></th>\n",
              "      <th>Cantidad</th>\n",
              "    </tr>\n",
              "    <tr>\n",
              "      <th>Zona</th>\n",
              "      <th></th>\n",
              "    </tr>\n",
              "  </thead>\n",
              "  <tbody>\n",
              "    <tr>\n",
              "      <th>RURAL</th>\n",
              "      <td>1238</td>\n",
              "    </tr>\n",
              "    <tr>\n",
              "      <th>URBANA</th>\n",
              "      <td>2549</td>\n",
              "    </tr>\n",
              "  </tbody>\n",
              "</table>\n",
              "</div>"
            ],
            "text/plain": [
              "        Cantidad\n",
              "Zona            \n",
              "RURAL       1238\n",
              "URBANA      2549"
            ]
          },
          "metadata": {
            "tags": []
          },
          "execution_count": 325
        }
      ]
    },
    {
      "cell_type": "code",
      "metadata": {
        "id": "UOPmXQ1YeqaH",
        "colab_type": "code",
        "colab": {
          "base_uri": "https://localhost:8080/",
          "height": 312
        },
        "outputId": "0ca6c9b2-e638-4c06-dbbb-aff866d2ec66"
      },
      "source": [
        "plt.subplot(1,2,1)\n",
        "plt.bar(['Rural','Urbana'],[original.values[0][0],original.values[1][0]])\n",
        "plt.ylabel('Homicidios')\n",
        "plt.xlabel('Zona')\n",
        "plt.title('Homicidios por zona:Real')\n",
        "\n",
        "plt.subplot(1,2,2)\n",
        "plt.bar(['Rural','Urbana'],[resultado.values[0][0],resultado.values[1][0]])\n",
        "plt.xlabel('Zona')\n",
        "\n",
        "plt.title('Homicidios por zona:predecido')\n"
      ],
      "execution_count": 327,
      "outputs": [
        {
          "output_type": "execute_result",
          "data": {
            "text/plain": [
              "Text(0.5, 1.0, 'Homicidios por zona:predecido')"
            ]
          },
          "metadata": {
            "tags": []
          },
          "execution_count": 327
        },
        {
          "output_type": "display_data",
          "data": {
            "image/png": "[encoded data removed]",
            "text/plain": [
              "<Figure size 432x288 with 2 Axes>"
            ]
          },
          "metadata": {
            "tags": [],
            "needs_background": "light"
          }
        }
      ]
    },
    {
      "cell_type": "markdown",
      "metadata": {
        "id": "stdKjyXglZoy",
        "colab_type": "text"
      },
      "source": [
        "Se obtuvo un acierto del 82.06% lo cual es un buen resultado, en busca de mejorarlo se tendria que agregar información como los homicidios en otros años."
      ]
    },
    {
      "cell_type": "markdown",
      "metadata": {
        "id": "-YEbdCHclaL1",
        "colab_type": "text"
      },
      "source": [
        "División de datos"
      ]
    },
    {
      "cell_type": "code",
      "metadata": {
        "id": "2LPagx4lrjSU",
        "colab_type": "code",
        "colab": {}
      },
      "source": [
        "x_train, x_test, y_train, y_test= train_test_split(homicidios_2018.loc[:,['Edad','Sexo','Departamento','Clase de sitio']], homicidios_2018['Arma empleada'],test_size = 0.20)"
      ],
      "execution_count": 329,
      "outputs": []
    },
    {
      "cell_type": "markdown",
      "metadata": {
        "id": "tkcTG47zlhrl",
        "colab_type": "text"
      },
      "source": [
        "Entrenamiento para modelos armas:"
      ]
    },
    {
      "cell_type": "code",
      "metadata": {
        "id": "JI8LfnUBskPp",
        "colab_type": "code",
        "colab": {
          "base_uri": "https://localhost:8080/",
          "height": 34
        },
        "outputId": "8af4a354-9fcc-4487-8860-97693db4163c"
      },
      "source": [
        "entrenamiento_modelo_arma=modelo_armas.fit(x_train, y_train)\n",
        "predecciones=modelo_armas.predict(x_test)\n",
        "modelo_armas.score(x_test,y_test)"
      ],
      "execution_count": 330,
      "outputs": [
        {
          "output_type": "execute_result",
          "data": {
            "text/plain": [
              "0.20514851485148514"
            ]
          },
          "metadata": {
            "tags": []
          },
          "execution_count": 330
        }
      ]
    },
    {
      "cell_type": "markdown",
      "metadata": {
        "id": "C7X0Dpv-lkQW",
        "colab_type": "text"
      },
      "source": [
        "Revisar Resultados:"
      ]
    },
    {
      "cell_type": "code",
      "metadata": {
        "id": "liPLRqG0wJCi",
        "colab_type": "code",
        "colab": {}
      },
      "source": [
        "resultado = pandas.DataFrame(predecciones)"
      ],
      "execution_count": 331,
      "outputs": []
    },
    {
      "cell_type": "code",
      "metadata": {
        "id": "HA_E3HYE0hCy",
        "colab_type": "code",
        "colab": {}
      },
      "source": [
        "resultado['Cantidad'] = 1"
      ],
      "execution_count": 332,
      "outputs": []
    },
    {
      "cell_type": "code",
      "metadata": {
        "id": "IaHdErCz0hMY",
        "colab_type": "code",
        "colab": {
          "base_uri": "https://localhost:8080/",
          "height": 607
        },
        "outputId": "c00a64e2-7c0e-4ab8-e4e1-4a798f988a71"
      },
      "source": [
        "resultado.groupby(0).count()"
      ],
      "execution_count": 333,
      "outputs": [
        {
          "output_type": "execute_result",
          "data": {
            "text/html": [
              "<div>\n",
              "<style scoped>\n",
              "    .dataframe tbody tr th:only-of-type {\n",
              "        vertical-align: middle;\n",
              "    }\n",
              "\n",
              "    .dataframe tbody tr th {\n",
              "        vertical-align: top;\n",
              "    }\n",
              "\n",
              "    .dataframe thead th {\n",
              "        text-align: right;\n",
              "    }\n",
              "</style>\n",
              "<table border=\"1\" class=\"dataframe\">\n",
              "  <thead>\n",
              "    <tr style=\"text-align: right;\">\n",
              "      <th></th>\n",
              "      <th>Cantidad</th>\n",
              "    </tr>\n",
              "    <tr>\n",
              "      <th>0</th>\n",
              "      <th></th>\n",
              "    </tr>\n",
              "  </thead>\n",
              "  <tbody>\n",
              "    <tr>\n",
              "      <th>ALMOHADA</th>\n",
              "      <td>51</td>\n",
              "    </tr>\n",
              "    <tr>\n",
              "      <th>ARMA BLANCA / CORTOPUNZANTE</th>\n",
              "      <td>414</td>\n",
              "    </tr>\n",
              "    <tr>\n",
              "      <th>ARMA DE FUEGO</th>\n",
              "      <td>410</td>\n",
              "    </tr>\n",
              "    <tr>\n",
              "      <th>ARTEFACTO EXPLOSIVO/CARGA DINAMITA</th>\n",
              "      <td>221</td>\n",
              "    </tr>\n",
              "    <tr>\n",
              "      <th>ARTEFACTO INCENDIARIO</th>\n",
              "      <td>299</td>\n",
              "    </tr>\n",
              "    <tr>\n",
              "      <th>BOLSA PLASTICA</th>\n",
              "      <td>279</td>\n",
              "    </tr>\n",
              "    <tr>\n",
              "      <th>CINTAS/CINTURON</th>\n",
              "      <td>77</td>\n",
              "    </tr>\n",
              "    <tr>\n",
              "      <th>COMBUSTIBLE</th>\n",
              "      <td>76</td>\n",
              "    </tr>\n",
              "    <tr>\n",
              "      <th>CONTUNDENTES</th>\n",
              "      <td>157</td>\n",
              "    </tr>\n",
              "    <tr>\n",
              "      <th>CUERDA/SOGA/CADENA</th>\n",
              "      <td>198</td>\n",
              "    </tr>\n",
              "    <tr>\n",
              "      <th>GRANADA DE MANO</th>\n",
              "      <td>23</td>\n",
              "    </tr>\n",
              "    <tr>\n",
              "      <th>MINA ANTIPERSONA</th>\n",
              "      <td>141</td>\n",
              "    </tr>\n",
              "    <tr>\n",
              "      <th>MOTO BOMBA</th>\n",
              "      <td>55</td>\n",
              "    </tr>\n",
              "    <tr>\n",
              "      <th>NO REPORTADO</th>\n",
              "      <td>47</td>\n",
              "    </tr>\n",
              "    <tr>\n",
              "      <th>PRENDAS DE VESTIR</th>\n",
              "      <td>4</td>\n",
              "    </tr>\n",
              "    <tr>\n",
              "      <th>QUIMICOS</th>\n",
              "      <td>10</td>\n",
              "    </tr>\n",
              "    <tr>\n",
              "      <th>SIN EMPLEO DE ARMAS</th>\n",
              "      <td>63</td>\n",
              "    </tr>\n",
              "  </tbody>\n",
              "</table>\n",
              "</div>"
            ],
            "text/plain": [
              "                                    Cantidad\n",
              "0                                           \n",
              "ALMOHADA                                  51\n",
              "ARMA BLANCA / CORTOPUNZANTE              414\n",
              "ARMA DE FUEGO                            410\n",
              "ARTEFACTO EXPLOSIVO/CARGA DINAMITA       221\n",
              "ARTEFACTO INCENDIARIO                    299\n",
              "BOLSA PLASTICA                           279\n",
              "CINTAS/CINTURON                           77\n",
              "COMBUSTIBLE                               76\n",
              "CONTUNDENTES                             157\n",
              "CUERDA/SOGA/CADENA                       198\n",
              "GRANADA DE MANO                           23\n",
              "MINA ANTIPERSONA                         141\n",
              "MOTO BOMBA                                55\n",
              "NO REPORTADO                              47\n",
              "PRENDAS DE VESTIR                          4\n",
              "QUIMICOS                                  10\n",
              "SIN EMPLEO DE ARMAS                       63"
            ]
          },
          "metadata": {
            "tags": []
          },
          "execution_count": 333
        }
      ]
    },
    {
      "cell_type": "code",
      "metadata": {
        "id": "ZWV-lKnD0tQO",
        "colab_type": "code",
        "colab": {}
      },
      "source": [
        "original = pandas.DataFrame(y_test)"
      ],
      "execution_count": 337,
      "outputs": []
    },
    {
      "cell_type": "code",
      "metadata": {
        "id": "ZzVYWFN50tb1",
        "colab_type": "code",
        "colab": {}
      },
      "source": [
        "original['Cantidad'] = 1"
      ],
      "execution_count": 338,
      "outputs": []
    },
    {
      "cell_type": "code",
      "metadata": {
        "id": "nnRTVb2r0tki",
        "colab_type": "code",
        "colab": {
          "base_uri": "https://localhost:8080/",
          "height": 483
        },
        "outputId": "5cbbbb65-3e99-40fa-9747-ca52ce053932"
      },
      "source": [
        "original.groupby('Arma empleada').count()"
      ],
      "execution_count": 339,
      "outputs": [
        {
          "output_type": "execute_result",
          "data": {
            "text/html": [
              "<div>\n",
              "<style scoped>\n",
              "    .dataframe tbody tr th:only-of-type {\n",
              "        vertical-align: middle;\n",
              "    }\n",
              "\n",
              "    .dataframe tbody tr th {\n",
              "        vertical-align: top;\n",
              "    }\n",
              "\n",
              "    .dataframe thead th {\n",
              "        text-align: right;\n",
              "    }\n",
              "</style>\n",
              "<table border=\"1\" class=\"dataframe\">\n",
              "  <thead>\n",
              "    <tr style=\"text-align: right;\">\n",
              "      <th></th>\n",
              "      <th>Cantidad</th>\n",
              "    </tr>\n",
              "    <tr>\n",
              "      <th>Arma empleada</th>\n",
              "      <th></th>\n",
              "    </tr>\n",
              "  </thead>\n",
              "  <tbody>\n",
              "    <tr>\n",
              "      <th>ALMOHADA</th>\n",
              "      <td>1</td>\n",
              "    </tr>\n",
              "    <tr>\n",
              "      <th>ARMA BLANCA / CORTOPUNZANTE</th>\n",
              "      <td>534</td>\n",
              "    </tr>\n",
              "    <tr>\n",
              "      <th>ARMA DE FUEGO</th>\n",
              "      <td>1849</td>\n",
              "    </tr>\n",
              "    <tr>\n",
              "      <th>ARTEFACTO EXPLOSIVO/CARGA DINAMITA</th>\n",
              "      <td>12</td>\n",
              "    </tr>\n",
              "    <tr>\n",
              "      <th>ARTEFACTO INCENDIARIO</th>\n",
              "      <td>1</td>\n",
              "    </tr>\n",
              "    <tr>\n",
              "      <th>BOLSA PLASTICA</th>\n",
              "      <td>4</td>\n",
              "    </tr>\n",
              "    <tr>\n",
              "      <th>CINTAS/CINTURON</th>\n",
              "      <td>8</td>\n",
              "    </tr>\n",
              "    <tr>\n",
              "      <th>COMBUSTIBLE</th>\n",
              "      <td>3</td>\n",
              "    </tr>\n",
              "    <tr>\n",
              "      <th>CONTUNDENTES</th>\n",
              "      <td>101</td>\n",
              "    </tr>\n",
              "    <tr>\n",
              "      <th>CUERDA/SOGA/CADENA</th>\n",
              "      <td>5</td>\n",
              "    </tr>\n",
              "    <tr>\n",
              "      <th>GRANADA DE MANO</th>\n",
              "      <td>3</td>\n",
              "    </tr>\n",
              "    <tr>\n",
              "      <th>MINA ANTIPERSONA</th>\n",
              "      <td>3</td>\n",
              "    </tr>\n",
              "    <tr>\n",
              "      <th>SIN EMPLEO DE ARMAS</th>\n",
              "      <td>1</td>\n",
              "    </tr>\n",
              "  </tbody>\n",
              "</table>\n",
              "</div>"
            ],
            "text/plain": [
              "                                    Cantidad\n",
              "Arma empleada                               \n",
              "ALMOHADA                                   1\n",
              "ARMA BLANCA / CORTOPUNZANTE              534\n",
              "ARMA DE FUEGO                           1849\n",
              "ARTEFACTO EXPLOSIVO/CARGA DINAMITA        12\n",
              "ARTEFACTO INCENDIARIO                      1\n",
              "BOLSA PLASTICA                             4\n",
              "CINTAS/CINTURON                            8\n",
              "COMBUSTIBLE                                3\n",
              "CONTUNDENTES                             101\n",
              "CUERDA/SOGA/CADENA                         5\n",
              "GRANADA DE MANO                            3\n",
              "MINA ANTIPERSONA                           3\n",
              "SIN EMPLEO DE ARMAS                        1"
            ]
          },
          "metadata": {
            "tags": []
          },
          "execution_count": 339
        }
      ]
    },
    {
      "cell_type": "markdown",
      "metadata": {
        "id": "9w5tO3vykAQ8",
        "colab_type": "text"
      },
      "source": [
        "Se obtuvo un acierto del 20.51% lo cual es malo, para mejorarlo se requiere una mayor cantidad de información debido a que existen armas de las cuales se tienen muy pocos registros y dificulta el desarrollo de un buen modelo."
      ]
    },
    {
      "cell_type": "markdown",
      "metadata": {
        "id": "KOE9NOogKPm7",
        "colab_type": "text"
      },
      "source": [
        "Modelo a futuro 1: Redes neuronales convolucionales en 1D\n",
        "\n",
        "El objetivo de este modelo seria decidir si la seguridad de un minicipio es baja-media-alta en un determinado tiempo. Un experto realizaria las etiquetas de cada serie de tiempo y se resolveria como un problema de clasificación.\n",
        "\n",
        "Se resuelve el problema de clasificación usando una red neuronal, en especifico se realiza una red convolucional. Entonces, las capas convolucionales que se usan son en una dimensión. Estas capas son utiles para que las redes neuronales aprendan caracteristicas secuencias de observaciones. "
      ]
    },
    {
      "cell_type": "markdown",
      "metadata": {
        "id": "xM1lDa_jKSvR",
        "colab_type": "text"
      },
      "source": [
        "Modelo a futuro 2:  Redes neuronales recurrentes\n",
        "\n",
        "Usar este tipo de modelo para series de tiempo que permite encontrar el futuro estado para asi conocer cual es el estado más probable en el que se encuentre el municipio."
      ]
    },
    {
      "cell_type": "markdown",
      "metadata": {
        "id": "iKWlgYC4LSRk",
        "colab_type": "text"
      },
      "source": [
        "## Arquitectura "
      ]
    },
    {
      "cell_type": "markdown",
      "metadata": {
        "id": "1MjAvwonMne4",
        "colab_type": "text"
      },
      "source": [
        "Implementaria una \"GCP solution\" aprovechando las herramientas y eventajas que ofrece esta plataforma, algunas de estas son:\n",
        "\n",
        "*   Latencia minima\n",
        "*   Mayor velocidad de procesamiento\n",
        "*   Minimas actividades de mantenimiento\n",
        "*   Escalable facilmente \n",
        "*   Obtener resultados de datos en tiempo real\n",
        "\n",
        "En primer lugar, se haria uso del servicio \"Cloud Pub/Sub\" que permite agregar datos de diferentes fuentes como bases de datos, dipositivos(computadores, celulares), entre otros. Luego, los datos serian enviados al servicio \"Cloud Dataflow\" el cual se encargaria del procesamiento (filtrar, transformar). Entonces, estos datos necesitan ser almacenados en un \"Data Warehouse\" para lo cual se usuaria el servicio \"Bigquery\" en la cual se podra consultar la información para realizar reportes (gráficos, informes, entre otros).Finalmente, se usuaria el servicio \"Cloud ML\" para implementar el modelos anteriormete explicado, obteniendo la información de \"Bigquery\" y enviando la información obtenida del modelo a \"Cloud Dataflow\" para que se pueda informar de los resultados. Como agregado si se cuenta información de otras fuentes se pueden conectar otros servicios a \"Cloud Dataflow\" como \"Cloud SQL\" y \"BigTable\". De igual forma si se necesita modificar los datos de \"Bigquery\" estos pueden ser enviados a Cloud Dataflow\" donde se transformaran para luego volver a \"Bigquery\"."
      ]
    },
    {
      "cell_type": "markdown",
      "metadata": {
        "id": "sIPNa-qgaphI",
        "colab_type": "text"
      },
      "source": [
        "## Muchas Gracias por la atención prestada."
      ]
    }
  ]
}